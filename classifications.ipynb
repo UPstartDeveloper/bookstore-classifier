{
 "cells": [
  {
   "cell_type": "markdown",
   "metadata": {},
   "source": [
    "# Where's the Best Place to Sell Books Online?\n",
    "The e-commerce platform Flipkart hit an all-important milestone in 2018.\n",
    "After beating out the world's largest online business, Amazon, for holding the top position in India's online retail market, the startup was acquired for by Wal-Mart for $18B USD.\n",
    "\n",
    "It is commonly believed that startups can beat out larger businesses through differentiation, or being unique.\n",
    "\n",
    "Will a machine learning classifier show us the differences between books being sold on Amazon vs. Flipkart?"
   ]
  },
  {
   "cell_type": "markdown",
   "metadata": {},
   "source": [
    "# Setup for Data Analysis and ML Classifications"
   ]
  },
  {
   "cell_type": "code",
   "execution_count": 205,
   "metadata": {},
   "outputs": [],
   "source": [
    "# Exploratory Data Analysis libraries\n",
    "import pandas as pd\n",
    "import numpy as np\n",
    "# visualizations\n",
    "import seaborn as sns \n",
    "# run Matplotlib graphs inline in notebook\n",
    "import matplotlib.pyplot as plt  \n",
    "%matplotlib inline\n",
    "# Machine Learning libraries \n",
    "import sklearn\n",
    "from sklearn.model_selection import train_test_split  # function used in building ML models"
   ]
  },
  {
   "cell_type": "markdown",
   "metadata": {},
   "source": [
    "### Instantiating pandas DataFrames"
   ]
  },
  {
   "cell_type": "code",
   "execution_count": 206,
   "metadata": {},
   "outputs": [
    {
     "data": {
      "text/html": [
       "<div>\n",
       "<style scoped>\n",
       "    .dataframe tbody tr th:only-of-type {\n",
       "        vertical-align: middle;\n",
       "    }\n",
       "\n",
       "    .dataframe tbody tr th {\n",
       "        vertical-align: top;\n",
       "    }\n",
       "\n",
       "    .dataframe thead th {\n",
       "        text-align: right;\n",
       "    }\n",
       "</style>\n",
       "<table border=\"1\" class=\"dataframe\">\n",
       "  <thead>\n",
       "    <tr style=\"text-align: right;\">\n",
       "      <th></th>\n",
       "      <th>amazon_title</th>\n",
       "      <th>amazon_author</th>\n",
       "      <th>amazon_rating</th>\n",
       "      <th>amazon_reviews count</th>\n",
       "      <th>amazon_isbn-10</th>\n",
       "      <th>amazon_price</th>\n",
       "    </tr>\n",
       "  </thead>\n",
       "  <tbody>\n",
       "    <tr>\n",
       "      <th>0</th>\n",
       "      <td>Tell Me your Dreams</td>\n",
       "      <td>by Sidney Sheldon</td>\n",
       "      <td>4.4</td>\n",
       "      <td>160.0</td>\n",
       "      <td>8172234902</td>\n",
       "      <td>209</td>\n",
       "    </tr>\n",
       "    <tr>\n",
       "      <th>1</th>\n",
       "      <td>The Boy in the Striped Pyjamas (Definitions)</td>\n",
       "      <td>by John Boyne</td>\n",
       "      <td>4.6</td>\n",
       "      <td>134.0</td>\n",
       "      <td>1862305277</td>\n",
       "      <td>350</td>\n",
       "    </tr>\n",
       "    <tr>\n",
       "      <th>2</th>\n",
       "      <td>Romancing the Balance Sheet: For Anyone Who Ow...</td>\n",
       "      <td>by Anil Lamba</td>\n",
       "      <td>4.5</td>\n",
       "      <td>156.0</td>\n",
       "      <td>9350294311</td>\n",
       "      <td>477</td>\n",
       "    </tr>\n",
       "    <tr>\n",
       "      <th>3</th>\n",
       "      <td>Mossad</td>\n",
       "      <td>by Michael Bar-Zohar - Import</td>\n",
       "      <td>4.6</td>\n",
       "      <td>637.0</td>\n",
       "      <td>8184958455</td>\n",
       "      <td>340</td>\n",
       "    </tr>\n",
       "    <tr>\n",
       "      <th>4</th>\n",
       "      <td>My Story</td>\n",
       "      <td>by Kamala Das</td>\n",
       "      <td>4.5</td>\n",
       "      <td>42.0</td>\n",
       "      <td>8172238975</td>\n",
       "      <td>178</td>\n",
       "    </tr>\n",
       "  </tbody>\n",
       "</table>\n",
       "</div>"
      ],
      "text/plain": [
       "                                        amazon_title  \\\n",
       "0                                Tell Me your Dreams   \n",
       "1       The Boy in the Striped Pyjamas (Definitions)   \n",
       "2  Romancing the Balance Sheet: For Anyone Who Ow...   \n",
       "3                                             Mossad   \n",
       "4                                           My Story   \n",
       "\n",
       "                   amazon_author amazon_rating amazon_reviews count  \\\n",
       "0              by Sidney Sheldon           4.4                160.0   \n",
       "1                  by John Boyne           4.6                134.0   \n",
       "2                  by Anil Lamba           4.5                156.0   \n",
       "3  by Michael Bar-Zohar - Import           4.6                637.0   \n",
       "4                  by Kamala Das           4.5                 42.0   \n",
       "\n",
       "   amazon_isbn-10  amazon_price  \n",
       "0      8172234902           209  \n",
       "1      1862305277           350  \n",
       "2      9350294311           477  \n",
       "3      8184958455           340  \n",
       "4      8172238975           178  "
      ]
     },
     "execution_count": 206,
     "metadata": {},
     "output_type": "execute_result"
    }
   ],
   "source": [
    "amazon_df = pd.read_csv('Data/amazon.csv')\n",
    "flipkart_df = pd.read_csv('Data/flipkart.csv')\n",
    "# View the data for book listings on Amazon\n",
    "amazon_df.head()"
   ]
  },
  {
   "cell_type": "code",
   "execution_count": 207,
   "metadata": {},
   "outputs": [
    {
     "data": {
      "text/html": [
       "<div>\n",
       "<style scoped>\n",
       "    .dataframe tbody tr th:only-of-type {\n",
       "        vertical-align: middle;\n",
       "    }\n",
       "\n",
       "    .dataframe tbody tr th {\n",
       "        vertical-align: top;\n",
       "    }\n",
       "\n",
       "    .dataframe thead th {\n",
       "        text-align: right;\n",
       "    }\n",
       "</style>\n",
       "<table border=\"1\" class=\"dataframe\">\n",
       "  <thead>\n",
       "    <tr style=\"text-align: right;\">\n",
       "      <th></th>\n",
       "      <th>flipkart_author</th>\n",
       "      <th>flipkart_isbn10</th>\n",
       "      <th>flipkart_title</th>\n",
       "      <th>flipkart_ratings count</th>\n",
       "      <th>flipkart_price</th>\n",
       "      <th>flipkart_stars</th>\n",
       "    </tr>\n",
       "  </thead>\n",
       "  <tbody>\n",
       "    <tr>\n",
       "      <th>0</th>\n",
       "      <td>Sidney Sheldon</td>\n",
       "      <td>8172234902</td>\n",
       "      <td>TELL ME YOUR DREAMS</td>\n",
       "      <td>902</td>\n",
       "      <td>209</td>\n",
       "      <td>4.5</td>\n",
       "    </tr>\n",
       "    <tr>\n",
       "      <th>1</th>\n",
       "      <td></td>\n",
       "      <td>1862305277</td>\n",
       "      <td>The Boy in the Striped Pyjamas</td>\n",
       "      <td>83</td>\n",
       "      <td>372</td>\n",
       "      <td>4.5</td>\n",
       "    </tr>\n",
       "    <tr>\n",
       "      <th>2</th>\n",
       "      <td>Anil Lamba</td>\n",
       "      <td>9350294311</td>\n",
       "      <td>ROMANCING THE BALANCE SHEET</td>\n",
       "      <td>352</td>\n",
       "      <td>477</td>\n",
       "      <td>4.5</td>\n",
       "    </tr>\n",
       "    <tr>\n",
       "      <th>3</th>\n",
       "      <td>Bar-Zohar Michael</td>\n",
       "      <td>8184958455</td>\n",
       "      <td>Mossad</td>\n",
       "      <td>560</td>\n",
       "      <td>280</td>\n",
       "      <td>4.5</td>\n",
       "    </tr>\n",
       "    <tr>\n",
       "      <th>4</th>\n",
       "      <td>Kamala Das</td>\n",
       "      <td>8172238975</td>\n",
       "      <td>MY STORY</td>\n",
       "      <td>322</td>\n",
       "      <td>178</td>\n",
       "      <td>4.3</td>\n",
       "    </tr>\n",
       "  </tbody>\n",
       "</table>\n",
       "</div>"
      ],
      "text/plain": [
       "       flipkart_author  flipkart_isbn10                   flipkart_title  \\\n",
       "0       Sidney Sheldon       8172234902              TELL ME YOUR DREAMS   \n",
       "1                            1862305277   The Boy in the Striped Pyjamas   \n",
       "2           Anil Lamba       9350294311      ROMANCING THE BALANCE SHEET   \n",
       "3    Bar-Zohar Michael       8184958455                           Mossad   \n",
       "4           Kamala Das       8172238975                         MY STORY   \n",
       "\n",
       "  flipkart_ratings count  flipkart_price flipkart_stars  \n",
       "0                    902             209            4.5  \n",
       "1                     83             372            4.5  \n",
       "2                    352             477            4.5  \n",
       "3                    560             280            4.5  \n",
       "4                    322             178            4.3  "
      ]
     },
     "execution_count": 207,
     "metadata": {},
     "output_type": "execute_result"
    }
   ],
   "source": [
    "# do the same for Flipkart books sold\n",
    "flipkart_df.head()"
   ]
  },
  {
   "cell_type": "markdown",
   "metadata": {},
   "source": [
    "## Fixing Data Inconsistencies"
   ]
  },
  {
   "cell_type": "markdown",
   "metadata": {},
   "source": [
    "Several problems with the data have been identified, as it pertains to this analysis:\n",
    "\n",
    "1. Columns are named differently across DataFrames\n",
    "2. The columns are ordered differently across DataFrames\n",
    "3. Books with the same title have different casing across DataFrames\n",
    "4. Data type for ratings count is all floats on Amazon data, yet integers for the analogous column on the Flipkart Dataframe.\n",
    "5. ISBN columns offers seeminly useless information.\n",
    "6. Different kinds of NaN values exist in the author columns on both DataFrames (i.e. \"By NA\", \"Not Available\", or just leaving the cell empty).\n",
    "7. Prices are missing the proper decimal point."
   ]
  },
  {
   "cell_type": "markdown",
   "metadata": {},
   "source": [
    "### Normaling Prices"
   ]
  },
  {
   "cell_type": "code",
   "execution_count": 208,
   "metadata": {},
   "outputs": [],
   "source": [
    "# Assumes that prices were listed originally in USD\n",
    "amzn_prices = amazon_df['amazon_price']\n",
    "amazon_df['amazon_price'] = [price/100 for price in amzn_prices]\n",
    "\n",
    "fp_prices = flipkart_df['flipkart_price']\n",
    "flipkart_df['flipkart_price'] = [price/100 for price in fp_prices]"
   ]
  },
  {
   "cell_type": "markdown",
   "metadata": {},
   "source": [
    "### Making Column Names Consistent"
   ]
  },
  {
   "cell_type": "code",
   "execution_count": 209,
   "metadata": {},
   "outputs": [],
   "source": [
    "def cutoff_prefix(df, prefix_length):\n",
    "    '''Removes the first prefix_length characters from each column in a DataFrame.'''\n",
    "    col_names = list(df.columns)\n",
    "    for i in range(len(col_names)):\n",
    "        # slicing off the first 7 letters\n",
    "        label = col_names[i]\n",
    "        col_names[i] = label[prefix_length:]\n",
    "    # swap out the names in the df for their shortened versions\n",
    "    new_df = df\n",
    "    new_df.columns = col_names\n",
    "    return new_df\n",
    "\n",
    "# Store new Dataframes whose column names have been shorted\n",
    "amzn_df = cutoff_prefix(amazon_df, 7)\n",
    "fp_df = cutoff_prefix(flipkart_df, 9)"
   ]
  },
  {
   "cell_type": "markdown",
   "metadata": {},
   "source": [
    "### Combining Data into One"
   ]
  },
  {
   "cell_type": "markdown",
   "metadata": {},
   "source": [
    "**The Ratings/Reviews Count Column**\n",
    "\n",
    "As I continue pre-processing data, there are a few things to keep in mind. For one thing, there is no contextual benefit in providing the number of reviews as a floating point number, as opposed to an integer. Therefore, I will convert all the floating point values in the \"reviews count\" column of the Amazon DataFrame to integer values."
   ]
  },
  {
   "cell_type": "code",
   "execution_count": 210,
   "metadata": {},
   "outputs": [
    {
     "name": "stdout",
     "output_type": "stream",
     "text": [
      "True\n",
      "False\n"
     ]
    }
   ],
   "source": [
    "# do the ratings/reviews columns have the same number of values to begin with?\n",
    "print(len(amzn_df['reviews count']) == len(fp_df['ratings count']))\n",
    "# let's make sure that both reviews count columns have the same number of non-Nan values\n",
    "print(len(amzn_df['reviews count'].dropna().values) == len(fp_df['ratings count'].dropna().values))"
   ]
  },
  {
   "cell_type": "code",
   "execution_count": 211,
   "metadata": {},
   "outputs": [
    {
     "name": "stdout",
     "output_type": "stream",
     "text": [
      "1378\n",
      "1382\n"
     ]
    }
   ],
   "source": [
    "# alright, so which df has more values?\n",
    "print(len(amzn_df['reviews count'].dropna().values))\n",
    "print(len(fp_df['ratings count'].dropna().values))"
   ]
  },
  {
   "cell_type": "markdown",
   "metadata": {},
   "source": [
    "Okay, so as a heads-up I will need to fill in some NaN values in the Amazon Dataframe!\n",
    "Here, I decided to fill in using '0.0'."
   ]
  },
  {
   "cell_type": "code",
   "execution_count": 212,
   "metadata": {},
   "outputs": [],
   "source": [
    "amzn_df['reviews count'] = amzn_df['reviews count'].fillna('0.0')"
   ]
  },
  {
   "cell_type": "code",
   "execution_count": 213,
   "metadata": {},
   "outputs": [],
   "source": [
    "# int conversion\n",
    "review_counts = list()\n",
    "for count in amzn_df['reviews count']:\n",
    "    # removing commas\n",
    "    # print(count)\n",
    "    if ',' in count:\n",
    "        count_ls = [char for char in count if char != ',']\n",
    "        count = ''.join(count_ls)\n",
    "    review_counts.append(int(float(count)))                             \n",
    "    \n",
    "# replacing the column in the DataFrame\n",
    "amzn_df['reviews count'] = review_counts"
   ]
  },
  {
   "cell_type": "markdown",
   "metadata": {},
   "source": [
    "Cool! That was way more complicated than expected. "
   ]
  },
  {
   "cell_type": "markdown",
   "metadata": {},
   "source": [
    "**Handling NaN Values + Mismatching Column Naming**\n",
    "\n",
    "For future reference, how about we cross-inspect of all the columns from both DataFrames, so we can:\n",
    "\n",
    "1. Take note of where differences in column-naming may be an issue,\n",
    "2. Take note of where Nan values may be an issue,\n",
    "3. Decide how best to resolve that issues in the context of that column!"
   ]
  },
  {
   "cell_type": "code",
   "execution_count": 214,
   "metadata": {},
   "outputs": [
    {
     "data": {
      "text/plain": [
       "Index(['title', 'author', 'rating', 'reviews count', 'isbn-10', 'price'], dtype='object')"
      ]
     },
     "execution_count": 214,
     "metadata": {},
     "output_type": "execute_result"
    }
   ],
   "source": [
    "amzn_df.columns"
   ]
  },
  {
   "cell_type": "code",
   "execution_count": 215,
   "metadata": {},
   "outputs": [
    {
     "data": {
      "text/plain": [
       "Index(['author', 'isbn10', 'title', 'ratings count', 'price', 'stars'], dtype='object')"
      ]
     },
     "execution_count": 215,
     "metadata": {},
     "output_type": "execute_result"
    }
   ],
   "source": [
    "fp_df.columns"
   ]
  },
  {
   "cell_type": "markdown",
   "metadata": {},
   "source": [
    "Interesting! It looks like I need to resolve a naming conflict in Flipkart's DataFrame, for the following columns:\n",
    "\n",
    "- 'stars'\n",
    "- 'ratings count'\n",
    "\n",
    "I chose to do this by simply renaming these columns to their Amazonian counterparts. The ISBN columns were simply dropped from both DataFrames, because they will not be used in the analysis to come."
   ]
  },
  {
   "cell_type": "code",
   "execution_count": 216,
   "metadata": {},
   "outputs": [],
   "source": [
    "# Renaming Flipkart columns mismatched names\n",
    "fp_df = fp_df.rename(columns={\n",
    "    'stars': 'rating',\n",
    "    'ratings count': 'reviews count'\n",
    "})\n",
    "# Removing the ISBN columns of both DataFrames\n",
    "del amzn_df['isbn-10']\n",
    "del fp_df['isbn10']"
   ]
  },
  {
   "cell_type": "markdown",
   "metadata": {},
   "source": [
    "To make the for-loop in the next cell functional, I must first resolve the naming conflict between 'reviews count' and 'ratings count', and likewise for 'review.'"
   ]
  },
  {
   "cell_type": "code",
   "execution_count": 217,
   "metadata": {},
   "outputs": [
    {
     "name": "stdout",
     "output_type": "stream",
     "text": [
      "For 'title', Amazonian data shows 1382 values, and Flipkart data shows 1382 values.\n",
      "For 'author', Amazonian data shows 1382 values, and Flipkart data shows 1382 values.\n",
      "For 'rating', Amazonian data shows 1378 values, and Flipkart data shows 1382 values.\n",
      "For 'price', Amazonian data shows 1382 values, and Flipkart data shows 1382 values.\n"
     ]
    }
   ],
   "source": [
    "# I assume that with NaN values included, both DataFrames are already the same length.\n",
    "for col in amzn_df.columns:\n",
    "    # skipping rating and reviews, since we already did that\n",
    "    if col != 'reviews count':\n",
    "        num_valid_rows_am = len(amzn_df[col].dropna().values)\n",
    "        num_valid_rows_fp = len(fp_df[col].dropna().values)\n",
    "        print(f\"For '{col}', Amazonian data shows {num_valid_rows_am} values, and Flipkart data shows {num_valid_rows_fp} values.\")"
   ]
  },
  {
   "cell_type": "markdown",
   "metadata": {},
   "source": [
    "It looks like we almost match up... except Amazon is lacking 4 non-NaN values in its 'rating' column. This is reasonable, because presumably these were the same rows in which the values for 'reviews count' were also missing.\n",
    "\n",
    "As before I will in those NaN values with '0.0', with the rationale being:\n",
    "1. That is what they most likely were, if they were missing during the stage of actually collecting the data;\n",
    "2. Ratings for books tend to depend on the book's quality; so it would not make sense to use another technique such as GMM for instance, because the value a book gets for its rating should arguably treated as an individual value. That is to say, it should not be confined to the distribution of rating values for this overall dataset."
   ]
  },
  {
   "cell_type": "code",
   "execution_count": 218,
   "metadata": {},
   "outputs": [],
   "source": [
    "amzn_df['rating'] = amzn_df['rating'].fillna('0.0')"
   ]
  },
  {
   "cell_type": "markdown",
   "metadata": {},
   "source": [
    "**Adding a 'Company' Column**\n",
    "\n",
    "In preparation of combining the two DataFrames, I will also add a 'Company' column to both, so that we will able to tell which row came from which company once they are all together!"
   ]
  },
  {
   "cell_type": "code",
   "execution_count": 219,
   "metadata": {},
   "outputs": [],
   "source": [
    "def add_company_col(df, company_name):\n",
    "    '''Add a column to specify which company through which a book was listed on the Internet.'''\n",
    "    df['Is_Amazon'] = [company_name for i in range(len(df))]\n",
    "    \n",
    "add_company_col(amzn_df, 1)  # 1 is affirmative\n",
    "add_company_col(fp_df, 0)  # 0 is negative"
   ]
  },
  {
   "cell_type": "markdown",
   "metadata": {},
   "source": [
    "**Stacking DataFrames on Top of Each Other**"
   ]
  },
  {
   "cell_type": "code",
   "execution_count": 220,
   "metadata": {},
   "outputs": [],
   "source": [
    "def collect_rows(df1, df2, is_stacked):\n",
    "    \"\"\"Make a new DataFrames in which all rows from df1 and df2 are combined into one.\n",
    "    \n",
    "       Parameters:\n",
    "       df1(DataFrame): the DataFrame which the return value will be initialized from, by copying.\n",
    "       df2(DataFrame): the DataFrame whose rows will be added to the copy.\n",
    "       is_stacked(bool): specificies whether all the rows of df2 will go beneath all the rows in df1, or if False\n",
    "                         then the return df will alternate between rows of df1 and df2 in its ordering, i.e. each\n",
    "                         row from one company's DataFrame will be followed by the row in the other DataFrame for the\n",
    "                         same book.\n",
    "                         \n",
    "      Returns: DataFrame\n",
    "    \n",
    "    \"\"\"\n",
    "    if is_stacked is True:\n",
    "         # create an empty DataFrame to hold all the eventual data\n",
    "        merged = pd.DataFrame(data=None, index=list(range(len(df1) + len(df2))), columns=df1.columns)\n",
    "        # add all rows in df2 below all rows df1, in order by corresponding columns\n",
    "        for col in df1.columns:\n",
    "            # form a new column with both sets of data, one after the other\n",
    "            new_col = df1[col].append(df2[col], ignore_index=True)\n",
    "            # add it to the new df\n",
    "            merged[col] = (new_col)\n",
    "    else:\n",
    "        merged = pd.DataFrame(data=None, index=list(range(len(df1) + len(df2))), columns=df1.columns)\n",
    "        # reorder columns in df2 to match df1\n",
    "        df2 = df2[df1.columns]\n",
    "        # iterate through all rows of both df's\n",
    "        for i in range(len(df1)):\n",
    "            row1, row2 = df1.iloc[i], df2.iloc[i]\n",
    "            # add in the rows\n",
    "            merged = merged.append(row1, ignore_index=True)\n",
    "            merged = merged.append(row2, ignore_index=True)\n",
    "        # Not completely clear on why the above causes top half of merged to be NaN, for now I'll just cut it out\n",
    "        merged = merged.iloc[len(merged) // 2:]\n",
    "    return merged\n",
    "\n",
    "all_books_stacked = collect_rows(amzn_df, fp_df, True)\n",
    "all_books_mixed = collect_rows(amzn_df, fp_df, False)"
   ]
  },
  {
   "cell_type": "markdown",
   "metadata": {},
   "source": [
    "# Exploratory Data Analysis"
   ]
  },
  {
   "cell_type": "markdown",
   "metadata": {},
   "source": [
    "## How Similar Are the Distributions of Price, Rating, and Review Counts?\n",
    "These look like the most promising features to use in training our classifier. Are they noticeably different between the two companies?\n",
    "\n",
    "#### Which features should be used to train the model?\n",
    "While on the topic, the \"title\" and \"author\" columns will not be used to train the classifier. In the context of an application, where a user would enter in the price their desired price for a book, the title they provide will not actually help the classifer in its decision. Rather, it would merely serve to let the machine know amongst which platforms (or labels for the target class) it can choose amongst."
   ]
  },
  {
   "cell_type": "markdown",
   "metadata": {},
   "source": [
    "## Distribution of Prices"
   ]
  },
  {
   "cell_type": "markdown",
   "metadata": {},
   "source": [
    "Both DataFrames have the same 1,382 books listed. What is the range of prices on both sites?"
   ]
  },
  {
   "cell_type": "code",
   "execution_count": 223,
   "metadata": {},
   "outputs": [
    {
     "name": "stdout",
     "output_type": "stream",
     "text": [
      "Price range on Amazon: $8.94 USD\n",
      "Price range on Flipkart: $51.71 USD\n"
     ]
    }
   ],
   "source": [
    "def determine_range(df, col):\n",
    "    return df[col].max() - df[col].min()\n",
    "\n",
    "amzn_price_range = determine_range(amzn_df, 'price')\n",
    "fp_price_range = determine_range(fp_df, 'price')\n",
    "print(f'Price range on Amazon: ${amzn_price_range} USD')\n",
    "print(f'Price range on Flipkart: ${fp_price_range} USD')"
   ]
  },
  {
   "cell_type": "code",
   "execution_count": 227,
   "metadata": {},
   "outputs": [
    {
     "data": {
      "image/png": "[encoded data removed]",
      "text/plain": [
       "<Figure size 432x288 with 1 Axes>"
      ]
     },
     "metadata": {
      "needs_background": "light"
     },
     "output_type": "display_data"
    }
   ],
   "source": [
    "sns.distplot(amzn_df['price'], hist=True, bins=10, kde=True, label='Amazon Prices')\n",
    "sns.distplot(fp_df['price'], hist=True, bins=10, kde=True, label='Flipkart Prices')\n",
    "plt.legend()\n",
    "plt.title('Distribution of Book Prices on Amazon and Flipkart')\n",
    "plt.show()"
   ]
  },
  {
   "cell_type": "markdown",
   "metadata": {},
   "source": [
    "### Interesting!\n",
    "It appears on one hand, the prices of books on Amazon tend to be slighly higher than, and have less variance, than the book prices on Flipkart."
   ]
  },
  {
   "cell_type": "code",
   "execution_count": null,
   "metadata": {},
   "outputs": [],
   "source": []
  },
  {
   "cell_type": "code",
   "execution_count": null,
   "metadata": {},
   "outputs": [],
   "source": []
  },
  {
   "cell_type": "code",
   "execution_count": null,
   "metadata": {},
   "outputs": [],
   "source": []
  }
 ],
 "metadata": {
  "kernelspec": {
   "display_name": "Python 3",
   "language": "python",
   "name": "python3"
  },
  "language_info": {
   "codemirror_mode": {
    "name": "ipython",
    "version": 3
   },
   "file_extension": ".py",
   "mimetype": "text/x-python",
   "name": "python",
   "nbconvert_exporter": "python",
   "pygments_lexer": "ipython3",
   "version": "3.7.6"
  }
 },
 "nbformat": 4,
 "nbformat_minor": 4
}
