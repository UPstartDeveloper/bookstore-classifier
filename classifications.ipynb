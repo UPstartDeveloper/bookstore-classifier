{
 "cells": [
  {
   "cell_type": "markdown",
   "metadata": {},
   "source": [
    "# Where's the Best Place to Sell Books Online?\n",
    "The e-commerce platform Flipkart hit an all-important milestone in 2018.\n",
    "After beating out the world's largest online business, Amazon, for holding the top position in India's online retail market, the startup was acquired for by Wal-Mart for $18B USD.\n",
    "\n",
    "It is commonly believed that startups can beat out larger businesses through differentiation, or being unique.\n",
    "\n",
    "Will a machine learning classifier show us the differences between books being sold on Amazon vs. Flipkart?"
   ]
  },
  {
   "cell_type": "markdown",
   "metadata": {},
   "source": [
    "# Setup for Data Analysis and ML Classifications"
   ]
  },
  {
   "cell_type": "code",
   "execution_count": 116,
   "metadata": {},
   "outputs": [],
   "source": [
    "# Exploratory Data Analysis libraries\n",
    "import pandas as pd\n",
    "import numpy as np\n",
    "# visualizations\n",
    "import seaborn as sns \n",
    "# run Matplotlib graphs inline in notebook\n",
    "import matplotlib.pyplot as plt  \n",
    "%matplotlib inline\n",
    "# Machine Learning libraries \n",
    "import sklearn\n",
    "from sklearn.model_selection import train_test_split  # function used in building ML models"
   ]
  },
  {
   "cell_type": "markdown",
   "metadata": {},
   "source": [
    "### Instantiating pandas DataFrames"
   ]
  },
  {
   "cell_type": "code",
   "execution_count": 117,
   "metadata": {},
   "outputs": [
    {
     "data": {
      "text/html": [
       "<div>\n",
       "<style scoped>\n",
       "    .dataframe tbody tr th:only-of-type {\n",
       "        vertical-align: middle;\n",
       "    }\n",
       "\n",
       "    .dataframe tbody tr th {\n",
       "        vertical-align: top;\n",
       "    }\n",
       "\n",
       "    .dataframe thead th {\n",
       "        text-align: right;\n",
       "    }\n",
       "</style>\n",
       "<table border=\"1\" class=\"dataframe\">\n",
       "  <thead>\n",
       "    <tr style=\"text-align: right;\">\n",
       "      <th></th>\n",
       "      <th>amazon_title</th>\n",
       "      <th>amazon_author</th>\n",
       "      <th>amazon_rating</th>\n",
       "      <th>amazon_reviews count</th>\n",
       "      <th>amazon_isbn-10</th>\n",
       "      <th>amazon_price</th>\n",
       "    </tr>\n",
       "  </thead>\n",
       "  <tbody>\n",
       "    <tr>\n",
       "      <th>0</th>\n",
       "      <td>Tell Me your Dreams</td>\n",
       "      <td>by Sidney Sheldon</td>\n",
       "      <td>4.4</td>\n",
       "      <td>160.0</td>\n",
       "      <td>8172234902</td>\n",
       "      <td>209</td>\n",
       "    </tr>\n",
       "    <tr>\n",
       "      <th>1</th>\n",
       "      <td>The Boy in the Striped Pyjamas (Definitions)</td>\n",
       "      <td>by John Boyne</td>\n",
       "      <td>4.6</td>\n",
       "      <td>134.0</td>\n",
       "      <td>1862305277</td>\n",
       "      <td>350</td>\n",
       "    </tr>\n",
       "    <tr>\n",
       "      <th>2</th>\n",
       "      <td>Romancing the Balance Sheet: For Anyone Who Ow...</td>\n",
       "      <td>by Anil Lamba</td>\n",
       "      <td>4.5</td>\n",
       "      <td>156.0</td>\n",
       "      <td>9350294311</td>\n",
       "      <td>477</td>\n",
       "    </tr>\n",
       "    <tr>\n",
       "      <th>3</th>\n",
       "      <td>Mossad</td>\n",
       "      <td>by Michael Bar-Zohar - Import</td>\n",
       "      <td>4.6</td>\n",
       "      <td>637.0</td>\n",
       "      <td>8184958455</td>\n",
       "      <td>340</td>\n",
       "    </tr>\n",
       "    <tr>\n",
       "      <th>4</th>\n",
       "      <td>My Story</td>\n",
       "      <td>by Kamala Das</td>\n",
       "      <td>4.5</td>\n",
       "      <td>42.0</td>\n",
       "      <td>8172238975</td>\n",
       "      <td>178</td>\n",
       "    </tr>\n",
       "  </tbody>\n",
       "</table>\n",
       "</div>"
      ],
      "text/plain": [
       "                                        amazon_title  \\\n",
       "0                                Tell Me your Dreams   \n",
       "1       The Boy in the Striped Pyjamas (Definitions)   \n",
       "2  Romancing the Balance Sheet: For Anyone Who Ow...   \n",
       "3                                             Mossad   \n",
       "4                                           My Story   \n",
       "\n",
       "                   amazon_author amazon_rating amazon_reviews count  \\\n",
       "0              by Sidney Sheldon           4.4                160.0   \n",
       "1                  by John Boyne           4.6                134.0   \n",
       "2                  by Anil Lamba           4.5                156.0   \n",
       "3  by Michael Bar-Zohar - Import           4.6                637.0   \n",
       "4                  by Kamala Das           4.5                 42.0   \n",
       "\n",
       "   amazon_isbn-10  amazon_price  \n",
       "0      8172234902           209  \n",
       "1      1862305277           350  \n",
       "2      9350294311           477  \n",
       "3      8184958455           340  \n",
       "4      8172238975           178  "
      ]
     },
     "execution_count": 117,
     "metadata": {},
     "output_type": "execute_result"
    }
   ],
   "source": [
    "amazon_df = pd.read_csv('Data/amazon.csv')\n",
    "flipkart_df = pd.read_csv('Data/flipkart.csv')\n",
    "# View the data for book listings on Amazon\n",
    "amazon_df.head()"
   ]
  },
  {
   "cell_type": "code",
   "execution_count": 118,
   "metadata": {},
   "outputs": [
    {
     "data": {
      "text/html": [
       "<div>\n",
       "<style scoped>\n",
       "    .dataframe tbody tr th:only-of-type {\n",
       "        vertical-align: middle;\n",
       "    }\n",
       "\n",
       "    .dataframe tbody tr th {\n",
       "        vertical-align: top;\n",
       "    }\n",
       "\n",
       "    .dataframe thead th {\n",
       "        text-align: right;\n",
       "    }\n",
       "</style>\n",
       "<table border=\"1\" class=\"dataframe\">\n",
       "  <thead>\n",
       "    <tr style=\"text-align: right;\">\n",
       "      <th></th>\n",
       "      <th>flipkart_author</th>\n",
       "      <th>flipkart_isbn10</th>\n",
       "      <th>flipkart_title</th>\n",
       "      <th>flipkart_ratings count</th>\n",
       "      <th>flipkart_price</th>\n",
       "      <th>flipkart_stars</th>\n",
       "    </tr>\n",
       "  </thead>\n",
       "  <tbody>\n",
       "    <tr>\n",
       "      <th>0</th>\n",
       "      <td>Sidney Sheldon</td>\n",
       "      <td>8172234902</td>\n",
       "      <td>TELL ME YOUR DREAMS</td>\n",
       "      <td>902</td>\n",
       "      <td>209</td>\n",
       "      <td>4.5</td>\n",
       "    </tr>\n",
       "    <tr>\n",
       "      <th>1</th>\n",
       "      <td></td>\n",
       "      <td>1862305277</td>\n",
       "      <td>The Boy in the Striped Pyjamas</td>\n",
       "      <td>83</td>\n",
       "      <td>372</td>\n",
       "      <td>4.5</td>\n",
       "    </tr>\n",
       "    <tr>\n",
       "      <th>2</th>\n",
       "      <td>Anil Lamba</td>\n",
       "      <td>9350294311</td>\n",
       "      <td>ROMANCING THE BALANCE SHEET</td>\n",
       "      <td>352</td>\n",
       "      <td>477</td>\n",
       "      <td>4.5</td>\n",
       "    </tr>\n",
       "    <tr>\n",
       "      <th>3</th>\n",
       "      <td>Bar-Zohar Michael</td>\n",
       "      <td>8184958455</td>\n",
       "      <td>Mossad</td>\n",
       "      <td>560</td>\n",
       "      <td>280</td>\n",
       "      <td>4.5</td>\n",
       "    </tr>\n",
       "    <tr>\n",
       "      <th>4</th>\n",
       "      <td>Kamala Das</td>\n",
       "      <td>8172238975</td>\n",
       "      <td>MY STORY</td>\n",
       "      <td>322</td>\n",
       "      <td>178</td>\n",
       "      <td>4.3</td>\n",
       "    </tr>\n",
       "  </tbody>\n",
       "</table>\n",
       "</div>"
      ],
      "text/plain": [
       "       flipkart_author  flipkart_isbn10                   flipkart_title  \\\n",
       "0       Sidney Sheldon       8172234902              TELL ME YOUR DREAMS   \n",
       "1                            1862305277   The Boy in the Striped Pyjamas   \n",
       "2           Anil Lamba       9350294311      ROMANCING THE BALANCE SHEET   \n",
       "3    Bar-Zohar Michael       8184958455                           Mossad   \n",
       "4           Kamala Das       8172238975                         MY STORY   \n",
       "\n",
       "  flipkart_ratings count  flipkart_price flipkart_stars  \n",
       "0                    902             209            4.5  \n",
       "1                     83             372            4.5  \n",
       "2                    352             477            4.5  \n",
       "3                    560             280            4.5  \n",
       "4                    322             178            4.3  "
      ]
     },
     "execution_count": 118,
     "metadata": {},
     "output_type": "execute_result"
    }
   ],
   "source": [
    "# do the same for Flipkart books sold\n",
    "flipkart_df.head()"
   ]
  },
  {
   "cell_type": "markdown",
   "metadata": {},
   "source": [
    "## Fixing Data Inconsistencies"
   ]
  },
  {
   "cell_type": "markdown",
   "metadata": {},
   "source": [
    "Several problems with the data have been identified, as it pertains to this analysis:\n",
    "\n",
    "1. Columns are named differently across DataFrames\n",
    "2. The columns are ordered differently across DataFrames\n",
    "3. Books with the same title have different casing across DataFrames\n",
    "4. Data type for ratings count is all floats on Amazon data, yet integers for the analogous column on the Flipkart Dataframe.\n",
    "5. ISBN columns offers seeminly useless information.\n",
    "6. Different kinds of NaN values exist in the author columns on both DataFrames (i.e. \"By NA\", \"Not Available\", or just leaving the cell empty)."
   ]
  },
  {
   "cell_type": "markdown",
   "metadata": {},
   "source": [
    "### Making Column Names Consistent"
   ]
  },
  {
   "cell_type": "code",
   "execution_count": 119,
   "metadata": {},
   "outputs": [],
   "source": [
    "def cutoff_prefix(df, prefix_length):\n",
    "    '''Removes the first prefix_length characters from each column in a DataFrame.'''\n",
    "    col_names = list(df.columns)\n",
    "    for i in range(len(col_names)):\n",
    "        # slicing off the first 7 letters\n",
    "        label = col_names[i]\n",
    "        col_names[i] = label[prefix_length:]\n",
    "    # swap out the names in the df for their shortened versions\n",
    "    new_df = df\n",
    "    new_df.columns = col_names\n",
    "    return new_df\n",
    "\n",
    "# Store new Dataframes whose column names have been shorted\n",
    "amzn_df = cutoff_prefix(amazon_df, 7)\n",
    "fp_df = cutoff_prefix(flipkart_df, 9)"
   ]
  },
  {
   "cell_type": "markdown",
   "metadata": {},
   "source": [
    "### Combining Data into One"
   ]
  },
  {
   "cell_type": "markdown",
   "metadata": {},
   "source": [
    "**The Ratings/Reviews Count Column**\n",
    "\n",
    "As I continue pre-processing data, there are a few things to keep in mind. For one thing, there is no contextual benefit in providing the number of reviews as a floating point number, as opposed to an integer. Therefore, I will convert all the floating point values in the \"reviews count\" column of the Amazon DataFrame to integer values."
   ]
  },
  {
   "cell_type": "code",
   "execution_count": 120,
   "metadata": {},
   "outputs": [
    {
     "name": "stdout",
     "output_type": "stream",
     "text": [
      "True\n",
      "False\n"
     ]
    }
   ],
   "source": [
    "# do the ratings/reviews columns have the same number of values to begin with?\n",
    "print(len(amzn_df['reviews count']) == len(fp_df['ratings count']))\n",
    "# let's make sure that both reviews count columns have the same number of non-Nan values\n",
    "print(len(amzn_df['reviews count'].dropna().values) == len(fp_df['ratings count'].dropna().values))"
   ]
  },
  {
   "cell_type": "code",
   "execution_count": 121,
   "metadata": {},
   "outputs": [
    {
     "name": "stdout",
     "output_type": "stream",
     "text": [
      "1378\n",
      "1382\n"
     ]
    }
   ],
   "source": [
    "# alright, so which df has more values?\n",
    "print(len(amzn_df['reviews count'].dropna().values))\n",
    "print(len(fp_df['ratings count'].dropna().values))"
   ]
  },
  {
   "cell_type": "markdown",
   "metadata": {},
   "source": [
    "Okay, so as a heads-up I will need to fill in some NaN values in the Amazon Dataframe!\n",
    "Here, I decided to fill in using '0.0'."
   ]
  },
  {
   "cell_type": "code",
   "execution_count": 122,
   "metadata": {},
   "outputs": [],
   "source": [
    "amzn_df['reviews count'] = amzn_df['reviews count'].fillna('0.0')"
   ]
  },
  {
   "cell_type": "code",
   "execution_count": 123,
   "metadata": {},
   "outputs": [
    {
     "data": {
      "text/html": [
       "<div>\n",
       "<style scoped>\n",
       "    .dataframe tbody tr th:only-of-type {\n",
       "        vertical-align: middle;\n",
       "    }\n",
       "\n",
       "    .dataframe tbody tr th {\n",
       "        vertical-align: top;\n",
       "    }\n",
       "\n",
       "    .dataframe thead th {\n",
       "        text-align: right;\n",
       "    }\n",
       "</style>\n",
       "<table border=\"1\" class=\"dataframe\">\n",
       "  <thead>\n",
       "    <tr style=\"text-align: right;\">\n",
       "      <th></th>\n",
       "      <th>title</th>\n",
       "      <th>author</th>\n",
       "      <th>rating</th>\n",
       "      <th>reviews count</th>\n",
       "      <th>isbn-10</th>\n",
       "      <th>price</th>\n",
       "    </tr>\n",
       "  </thead>\n",
       "  <tbody>\n",
       "    <tr>\n",
       "      <th>0</th>\n",
       "      <td>Tell Me your Dreams</td>\n",
       "      <td>by Sidney Sheldon</td>\n",
       "      <td>4.4</td>\n",
       "      <td>160</td>\n",
       "      <td>8172234902</td>\n",
       "      <td>209</td>\n",
       "    </tr>\n",
       "    <tr>\n",
       "      <th>1</th>\n",
       "      <td>The Boy in the Striped Pyjamas (Definitions)</td>\n",
       "      <td>by John Boyne</td>\n",
       "      <td>4.6</td>\n",
       "      <td>134</td>\n",
       "      <td>1862305277</td>\n",
       "      <td>350</td>\n",
       "    </tr>\n",
       "    <tr>\n",
       "      <th>2</th>\n",
       "      <td>Romancing the Balance Sheet: For Anyone Who Ow...</td>\n",
       "      <td>by Anil Lamba</td>\n",
       "      <td>4.5</td>\n",
       "      <td>156</td>\n",
       "      <td>9350294311</td>\n",
       "      <td>477</td>\n",
       "    </tr>\n",
       "    <tr>\n",
       "      <th>3</th>\n",
       "      <td>Mossad</td>\n",
       "      <td>by Michael Bar-Zohar - Import</td>\n",
       "      <td>4.6</td>\n",
       "      <td>637</td>\n",
       "      <td>8184958455</td>\n",
       "      <td>340</td>\n",
       "    </tr>\n",
       "    <tr>\n",
       "      <th>4</th>\n",
       "      <td>My Story</td>\n",
       "      <td>by Kamala Das</td>\n",
       "      <td>4.5</td>\n",
       "      <td>42</td>\n",
       "      <td>8172238975</td>\n",
       "      <td>178</td>\n",
       "    </tr>\n",
       "    <tr>\n",
       "      <th>...</th>\n",
       "      <td>...</td>\n",
       "      <td>...</td>\n",
       "      <td>...</td>\n",
       "      <td>...</td>\n",
       "      <td>...</td>\n",
       "      <td>...</td>\n",
       "    </tr>\n",
       "    <tr>\n",
       "      <th>1377</th>\n",
       "      <td>Geronimo Stilton and the Kingdom of Fantasy #8...</td>\n",
       "      <td>by Geronimo Stilton</td>\n",
       "      <td>4.6</td>\n",
       "      <td>329</td>\n",
       "      <td>9385887815</td>\n",
       "      <td>274</td>\n",
       "    </tr>\n",
       "    <tr>\n",
       "      <th>1378</th>\n",
       "      <td>Harry Potter and the Deathly Hallows (Harry Po...</td>\n",
       "      <td>by J.K. Rowling</td>\n",
       "      <td>4.6</td>\n",
       "      <td>352</td>\n",
       "      <td>1408855712</td>\n",
       "      <td>666</td>\n",
       "    </tr>\n",
       "    <tr>\n",
       "      <th>1379</th>\n",
       "      <td>Sita's Ramayana</td>\n",
       "      <td>by Samhita Arni</td>\n",
       "      <td>3.6</td>\n",
       "      <td>5</td>\n",
       "      <td>9380340036</td>\n",
       "      <td>542</td>\n",
       "    </tr>\n",
       "    <tr>\n",
       "      <th>1380</th>\n",
       "      <td>The Maze Runner #02 Scorch Trials Movie Tie-in</td>\n",
       "      <td>by James Dashner</td>\n",
       "      <td>3.9</td>\n",
       "      <td>56</td>\n",
       "      <td>9351039684</td>\n",
       "      <td>247</td>\n",
       "    </tr>\n",
       "    <tr>\n",
       "      <th>1381</th>\n",
       "      <td>Tom Gates #10: Super Good Skills (Almost . . .)</td>\n",
       "      <td>by NILL</td>\n",
       "      <td>4.4</td>\n",
       "      <td>24</td>\n",
       "      <td>9386041901</td>\n",
       "      <td>213</td>\n",
       "    </tr>\n",
       "  </tbody>\n",
       "</table>\n",
       "<p>1382 rows × 6 columns</p>\n",
       "</div>"
      ],
      "text/plain": [
       "                                                  title  \\\n",
       "0                                   Tell Me your Dreams   \n",
       "1          The Boy in the Striped Pyjamas (Definitions)   \n",
       "2     Romancing the Balance Sheet: For Anyone Who Ow...   \n",
       "3                                                Mossad   \n",
       "4                                              My Story   \n",
       "...                                                 ...   \n",
       "1377  Geronimo Stilton and the Kingdom of Fantasy #8...   \n",
       "1378  Harry Potter and the Deathly Hallows (Harry Po...   \n",
       "1379                                    Sita's Ramayana   \n",
       "1380     The Maze Runner #02 Scorch Trials Movie Tie-in   \n",
       "1381    Tom Gates #10: Super Good Skills (Almost . . .)   \n",
       "\n",
       "                             author rating  reviews count     isbn-10  price  \n",
       "0                 by Sidney Sheldon    4.4            160  8172234902    209  \n",
       "1                     by John Boyne    4.6            134  1862305277    350  \n",
       "2                     by Anil Lamba    4.5            156  9350294311    477  \n",
       "3     by Michael Bar-Zohar - Import    4.6            637  8184958455    340  \n",
       "4                     by Kamala Das    4.5             42  8172238975    178  \n",
       "...                             ...    ...            ...         ...    ...  \n",
       "1377            by Geronimo Stilton    4.6            329  9385887815    274  \n",
       "1378                by J.K. Rowling    4.6            352  1408855712    666  \n",
       "1379                by Samhita Arni    3.6              5  9380340036    542  \n",
       "1380               by James Dashner    3.9             56  9351039684    247  \n",
       "1381                        by NILL    4.4             24  9386041901    213  \n",
       "\n",
       "[1382 rows x 6 columns]"
      ]
     },
     "execution_count": 123,
     "metadata": {},
     "output_type": "execute_result"
    }
   ],
   "source": [
    "# int conversion\n",
    "review_counts = list()\n",
    "for count in amzn_df['reviews count']:\n",
    "    # removing commas\n",
    "    # print(count)\n",
    "    if ',' in count:\n",
    "        count_ls = [char for char in count if char != ',']\n",
    "        count = ''.join(count_ls)\n",
    "    review_counts.append(int(float(count)))                             \n",
    "    \n",
    "# replacing the column in the DataFrame\n",
    "amzn_df['reviews count'] = review_counts"
   ]
  },
  {
   "cell_type": "markdown",
   "metadata": {},
   "source": [
    "Cool! That was way more complicated than expected. \n",
    "\n",
    "For future reference, how about we cross-inspect of all the columns from both DataFrames, so we can:\n",
    "\n",
    "1. Take note of where Nan values may be an issue,\n",
    "2. Decide how best to resolve that issues in the context of that column!"
   ]
  },
  {
   "cell_type": "markdown",
   "metadata": {},
   "source": [
    "To make the for-loop in the next cell functional, I must first resolve the naming conflict between 'reviews count' and 'ratings count', and likewise for 'review"
   ]
  },
  {
   "cell_type": "code",
   "execution_count": 128,
   "metadata": {},
   "outputs": [
    {
     "name": "stdout",
     "output_type": "stream",
     "text": [
      "For 'title', Amazonian data shows 1382 values, and Flipkart data shows 1382 values.\n",
      "For 'author', Amazonian data shows 1382 values, and Flipkart data shows 1382 values.\n"
     ]
    },
    {
     "ename": "KeyError",
     "evalue": "'rating'",
     "output_type": "error",
     "traceback": [
      "\u001b[0;31m---------------------------------------------------------------------------\u001b[0m",
      "\u001b[0;31mKeyError\u001b[0m                                  Traceback (most recent call last)",
      "\u001b[0;32m~/Downloads/dev/courses/DS/bookstore-classifier/env/lib/python3.7/site-packages/pandas/core/indexes/base.py\u001b[0m in \u001b[0;36mget_loc\u001b[0;34m(self, key, method, tolerance)\u001b[0m\n\u001b[1;32m   2645\u001b[0m             \u001b[0;32mtry\u001b[0m\u001b[0;34m:\u001b[0m\u001b[0;34m\u001b[0m\u001b[0;34m\u001b[0m\u001b[0m\n\u001b[0;32m-> 2646\u001b[0;31m                 \u001b[0;32mreturn\u001b[0m \u001b[0mself\u001b[0m\u001b[0;34m.\u001b[0m\u001b[0m_engine\u001b[0m\u001b[0;34m.\u001b[0m\u001b[0mget_loc\u001b[0m\u001b[0;34m(\u001b[0m\u001b[0mkey\u001b[0m\u001b[0;34m)\u001b[0m\u001b[0;34m\u001b[0m\u001b[0;34m\u001b[0m\u001b[0m\n\u001b[0m\u001b[1;32m   2647\u001b[0m             \u001b[0;32mexcept\u001b[0m \u001b[0mKeyError\u001b[0m\u001b[0;34m:\u001b[0m\u001b[0;34m\u001b[0m\u001b[0;34m\u001b[0m\u001b[0m\n",
      "\u001b[0;32mpandas/_libs/index.pyx\u001b[0m in \u001b[0;36mpandas._libs.index.IndexEngine.get_loc\u001b[0;34m()\u001b[0m\n",
      "\u001b[0;32mpandas/_libs/index.pyx\u001b[0m in \u001b[0;36mpandas._libs.index.IndexEngine.get_loc\u001b[0;34m()\u001b[0m\n",
      "\u001b[0;32mpandas/_libs/hashtable_class_helper.pxi\u001b[0m in \u001b[0;36mpandas._libs.hashtable.PyObjectHashTable.get_item\u001b[0;34m()\u001b[0m\n",
      "\u001b[0;32mpandas/_libs/hashtable_class_helper.pxi\u001b[0m in \u001b[0;36mpandas._libs.hashtable.PyObjectHashTable.get_item\u001b[0;34m()\u001b[0m\n",
      "\u001b[0;31mKeyError\u001b[0m: 'rating'",
      "\nDuring handling of the above exception, another exception occurred:\n",
      "\u001b[0;31mKeyError\u001b[0m                                  Traceback (most recent call last)",
      "\u001b[0;32m<ipython-input-128-c6a910bf0723>\u001b[0m in \u001b[0;36m<module>\u001b[0;34m\u001b[0m\n\u001b[1;32m      4\u001b[0m     \u001b[0;32mif\u001b[0m \u001b[0mcol\u001b[0m \u001b[0;34m!=\u001b[0m \u001b[0;34m'reviews count'\u001b[0m\u001b[0;34m:\u001b[0m\u001b[0;34m\u001b[0m\u001b[0;34m\u001b[0m\u001b[0m\n\u001b[1;32m      5\u001b[0m         \u001b[0mnum_valid_rows_am\u001b[0m \u001b[0;34m=\u001b[0m \u001b[0mlen\u001b[0m\u001b[0;34m(\u001b[0m\u001b[0mamzn_df\u001b[0m\u001b[0;34m[\u001b[0m\u001b[0mcol\u001b[0m\u001b[0;34m]\u001b[0m\u001b[0;34m.\u001b[0m\u001b[0mdropna\u001b[0m\u001b[0;34m(\u001b[0m\u001b[0;34m)\u001b[0m\u001b[0;34m.\u001b[0m\u001b[0mvalues\u001b[0m\u001b[0;34m)\u001b[0m\u001b[0;34m\u001b[0m\u001b[0;34m\u001b[0m\u001b[0m\n\u001b[0;32m----> 6\u001b[0;31m         \u001b[0mnum_valid_rows_fp\u001b[0m \u001b[0;34m=\u001b[0m \u001b[0mlen\u001b[0m\u001b[0;34m(\u001b[0m\u001b[0mfp_df\u001b[0m\u001b[0;34m[\u001b[0m\u001b[0mcol\u001b[0m\u001b[0;34m]\u001b[0m\u001b[0;34m.\u001b[0m\u001b[0mdropna\u001b[0m\u001b[0;34m(\u001b[0m\u001b[0;34m)\u001b[0m\u001b[0;34m.\u001b[0m\u001b[0mvalues\u001b[0m\u001b[0;34m)\u001b[0m\u001b[0;34m\u001b[0m\u001b[0;34m\u001b[0m\u001b[0m\n\u001b[0m\u001b[1;32m      7\u001b[0m         \u001b[0mprint\u001b[0m\u001b[0;34m(\u001b[0m\u001b[0;34mf\"For '{col}', Amazonian data shows {num_valid_rows_am} values, and Flipkart data shows {num_valid_rows_fp} values.\"\u001b[0m\u001b[0;34m)\u001b[0m\u001b[0;34m\u001b[0m\u001b[0;34m\u001b[0m\u001b[0m\n",
      "\u001b[0;32m~/Downloads/dev/courses/DS/bookstore-classifier/env/lib/python3.7/site-packages/pandas/core/frame.py\u001b[0m in \u001b[0;36m__getitem__\u001b[0;34m(self, key)\u001b[0m\n\u001b[1;32m   2798\u001b[0m             \u001b[0;32mif\u001b[0m \u001b[0mself\u001b[0m\u001b[0;34m.\u001b[0m\u001b[0mcolumns\u001b[0m\u001b[0;34m.\u001b[0m\u001b[0mnlevels\u001b[0m \u001b[0;34m>\u001b[0m \u001b[0;36m1\u001b[0m\u001b[0;34m:\u001b[0m\u001b[0;34m\u001b[0m\u001b[0;34m\u001b[0m\u001b[0m\n\u001b[1;32m   2799\u001b[0m                 \u001b[0;32mreturn\u001b[0m \u001b[0mself\u001b[0m\u001b[0;34m.\u001b[0m\u001b[0m_getitem_multilevel\u001b[0m\u001b[0;34m(\u001b[0m\u001b[0mkey\u001b[0m\u001b[0;34m)\u001b[0m\u001b[0;34m\u001b[0m\u001b[0;34m\u001b[0m\u001b[0m\n\u001b[0;32m-> 2800\u001b[0;31m             \u001b[0mindexer\u001b[0m \u001b[0;34m=\u001b[0m \u001b[0mself\u001b[0m\u001b[0;34m.\u001b[0m\u001b[0mcolumns\u001b[0m\u001b[0;34m.\u001b[0m\u001b[0mget_loc\u001b[0m\u001b[0;34m(\u001b[0m\u001b[0mkey\u001b[0m\u001b[0;34m)\u001b[0m\u001b[0;34m\u001b[0m\u001b[0;34m\u001b[0m\u001b[0m\n\u001b[0m\u001b[1;32m   2801\u001b[0m             \u001b[0;32mif\u001b[0m \u001b[0mis_integer\u001b[0m\u001b[0;34m(\u001b[0m\u001b[0mindexer\u001b[0m\u001b[0;34m)\u001b[0m\u001b[0;34m:\u001b[0m\u001b[0;34m\u001b[0m\u001b[0;34m\u001b[0m\u001b[0m\n\u001b[1;32m   2802\u001b[0m                 \u001b[0mindexer\u001b[0m \u001b[0;34m=\u001b[0m \u001b[0;34m[\u001b[0m\u001b[0mindexer\u001b[0m\u001b[0;34m]\u001b[0m\u001b[0;34m\u001b[0m\u001b[0;34m\u001b[0m\u001b[0m\n",
      "\u001b[0;32m~/Downloads/dev/courses/DS/bookstore-classifier/env/lib/python3.7/site-packages/pandas/core/indexes/base.py\u001b[0m in \u001b[0;36mget_loc\u001b[0;34m(self, key, method, tolerance)\u001b[0m\n\u001b[1;32m   2646\u001b[0m                 \u001b[0;32mreturn\u001b[0m \u001b[0mself\u001b[0m\u001b[0;34m.\u001b[0m\u001b[0m_engine\u001b[0m\u001b[0;34m.\u001b[0m\u001b[0mget_loc\u001b[0m\u001b[0;34m(\u001b[0m\u001b[0mkey\u001b[0m\u001b[0;34m)\u001b[0m\u001b[0;34m\u001b[0m\u001b[0;34m\u001b[0m\u001b[0m\n\u001b[1;32m   2647\u001b[0m             \u001b[0;32mexcept\u001b[0m \u001b[0mKeyError\u001b[0m\u001b[0;34m:\u001b[0m\u001b[0;34m\u001b[0m\u001b[0;34m\u001b[0m\u001b[0m\n\u001b[0;32m-> 2648\u001b[0;31m                 \u001b[0;32mreturn\u001b[0m \u001b[0mself\u001b[0m\u001b[0;34m.\u001b[0m\u001b[0m_engine\u001b[0m\u001b[0;34m.\u001b[0m\u001b[0mget_loc\u001b[0m\u001b[0;34m(\u001b[0m\u001b[0mself\u001b[0m\u001b[0;34m.\u001b[0m\u001b[0m_maybe_cast_indexer\u001b[0m\u001b[0;34m(\u001b[0m\u001b[0mkey\u001b[0m\u001b[0;34m)\u001b[0m\u001b[0;34m)\u001b[0m\u001b[0;34m\u001b[0m\u001b[0;34m\u001b[0m\u001b[0m\n\u001b[0m\u001b[1;32m   2649\u001b[0m         \u001b[0mindexer\u001b[0m \u001b[0;34m=\u001b[0m \u001b[0mself\u001b[0m\u001b[0;34m.\u001b[0m\u001b[0mget_indexer\u001b[0m\u001b[0;34m(\u001b[0m\u001b[0;34m[\u001b[0m\u001b[0mkey\u001b[0m\u001b[0;34m]\u001b[0m\u001b[0;34m,\u001b[0m \u001b[0mmethod\u001b[0m\u001b[0;34m=\u001b[0m\u001b[0mmethod\u001b[0m\u001b[0;34m,\u001b[0m \u001b[0mtolerance\u001b[0m\u001b[0;34m=\u001b[0m\u001b[0mtolerance\u001b[0m\u001b[0;34m)\u001b[0m\u001b[0;34m\u001b[0m\u001b[0;34m\u001b[0m\u001b[0m\n\u001b[1;32m   2650\u001b[0m         \u001b[0;32mif\u001b[0m \u001b[0mindexer\u001b[0m\u001b[0;34m.\u001b[0m\u001b[0mndim\u001b[0m \u001b[0;34m>\u001b[0m \u001b[0;36m1\u001b[0m \u001b[0;32mor\u001b[0m \u001b[0mindexer\u001b[0m\u001b[0;34m.\u001b[0m\u001b[0msize\u001b[0m \u001b[0;34m>\u001b[0m \u001b[0;36m1\u001b[0m\u001b[0;34m:\u001b[0m\u001b[0;34m\u001b[0m\u001b[0;34m\u001b[0m\u001b[0m\n",
      "\u001b[0;32mpandas/_libs/index.pyx\u001b[0m in \u001b[0;36mpandas._libs.index.IndexEngine.get_loc\u001b[0;34m()\u001b[0m\n",
      "\u001b[0;32mpandas/_libs/index.pyx\u001b[0m in \u001b[0;36mpandas._libs.index.IndexEngine.get_loc\u001b[0;34m()\u001b[0m\n",
      "\u001b[0;32mpandas/_libs/hashtable_class_helper.pxi\u001b[0m in \u001b[0;36mpandas._libs.hashtable.PyObjectHashTable.get_item\u001b[0;34m()\u001b[0m\n",
      "\u001b[0;32mpandas/_libs/hashtable_class_helper.pxi\u001b[0m in \u001b[0;36mpandas._libs.hashtable.PyObjectHashTable.get_item\u001b[0;34m()\u001b[0m\n",
      "\u001b[0;31mKeyError\u001b[0m: 'rating'"
     ]
    }
   ],
   "source": [
    "# I assume that with NaN values included, both DataFrames are already the same length.\n",
    "for col in amzn_df.columns:\n",
    "    # skipping rating and reviews, since we already did that\n",
    "    if col != 'reviews count':\n",
    "        num_valid_rows_am = len(amzn_df[col].dropna().values)\n",
    "        num_valid_rows_fp = len(fp_df[col].dropna().values)\n",
    "        print(f\"For '{col}', Amazonian data shows {num_valid_rows_am} values, and Flipkart data shows {num_valid_rows_fp} values.\")"
   ]
  },
  {
   "cell_type": "code",
   "execution_count": null,
   "metadata": {},
   "outputs": [],
   "source": []
  }
 ],
 "metadata": {
  "kernelspec": {
   "display_name": "Python 3",
   "language": "python",
   "name": "python3"
  },
  "language_info": {
   "codemirror_mode": {
    "name": "ipython",
    "version": 3
   },
   "file_extension": ".py",
   "mimetype": "text/x-python",
   "name": "python",
   "nbconvert_exporter": "python",
   "pygments_lexer": "ipython3",
   "version": "3.7.6"
  }
 },
 "nbformat": 4,
 "nbformat_minor": 4
}
