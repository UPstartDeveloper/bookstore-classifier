{
 "cells": [
  {
   "cell_type": "markdown",
   "metadata": {},
   "source": [
    "# Where's the Best Place to Sell Books Online?\n",
    "The e-commerce platform Flipkart hit an all-important milestone in 2018.\n",
    "After beating out the world's largest online business, Amazon, for holding the top position in India's online retail market, the startup was acquired for by Wal-Mart for $18B USD.\n",
    "\n",
    "It is commonly believed that startups can beat out larger businesses through differentiation, or being unique.\n",
    "\n",
    "Will a machine learning classifier show us the differences between books being sold on Amazon vs. Flipkart?"
   ]
  },
  {
   "cell_type": "markdown",
   "metadata": {},
   "source": [
    "# Setup for Data Analysis and ML Classifications"
   ]
  },
  {
   "cell_type": "code",
   "execution_count": 1,
   "metadata": {},
   "outputs": [],
   "source": [
    "# Exploratory Data Analysis libraries\n",
    "import pandas as pd\n",
    "import numpy as np\n",
    "# visualizations\n",
    "import seaborn as sns \n",
    "# run Matplotlib graphs inline in notebook\n",
    "import matplotlib.pyplot as plt  \n",
    "%matplotlib inline\n",
    "# Machine Learning libraries \n",
    "import sklearn\n",
    "# function used in building ML algorithms\n",
    "from sklearn.model_selection import train_test_split\n",
    "# imports the class to do standard scaling\n",
    "from sklearn.preprocessing import StandardScaler\n",
    "# Performing PCA\n",
    "from sklearn.decomposition import PCA\n",
    "# Model Evaluation\n",
    "from sklearn.metrics import confusion_matrix\n",
    "from sklearn.model_selection import GridSearchCV\n",
    "# Support Vector Machine Tools\n",
    "from sklearn.svm import SVC"
   ]
  },
  {
   "cell_type": "markdown",
   "metadata": {},
   "source": [
    "### Instantiating pandas DataFrames"
   ]
  },
  {
   "cell_type": "code",
   "execution_count": 2,
   "metadata": {},
   "outputs": [
    {
     "data": {
      "text/html": [
       "<div>\n",
       "<style scoped>\n",
       "    .dataframe tbody tr th:only-of-type {\n",
       "        vertical-align: middle;\n",
       "    }\n",
       "\n",
       "    .dataframe tbody tr th {\n",
       "        vertical-align: top;\n",
       "    }\n",
       "\n",
       "    .dataframe thead th {\n",
       "        text-align: right;\n",
       "    }\n",
       "</style>\n",
       "<table border=\"1\" class=\"dataframe\">\n",
       "  <thead>\n",
       "    <tr style=\"text-align: right;\">\n",
       "      <th></th>\n",
       "      <th>amazon_title</th>\n",
       "      <th>amazon_author</th>\n",
       "      <th>amazon_rating</th>\n",
       "      <th>amazon_reviews count</th>\n",
       "      <th>amazon_isbn-10</th>\n",
       "      <th>amazon_price</th>\n",
       "    </tr>\n",
       "  </thead>\n",
       "  <tbody>\n",
       "    <tr>\n",
       "      <th>0</th>\n",
       "      <td>Tell Me your Dreams</td>\n",
       "      <td>by Sidney Sheldon</td>\n",
       "      <td>4.4</td>\n",
       "      <td>160.0</td>\n",
       "      <td>8172234902</td>\n",
       "      <td>209</td>\n",
       "    </tr>\n",
       "    <tr>\n",
       "      <th>1</th>\n",
       "      <td>The Boy in the Striped Pyjamas (Definitions)</td>\n",
       "      <td>by John Boyne</td>\n",
       "      <td>4.6</td>\n",
       "      <td>134.0</td>\n",
       "      <td>1862305277</td>\n",
       "      <td>350</td>\n",
       "    </tr>\n",
       "    <tr>\n",
       "      <th>2</th>\n",
       "      <td>Romancing the Balance Sheet: For Anyone Who Ow...</td>\n",
       "      <td>by Anil Lamba</td>\n",
       "      <td>4.5</td>\n",
       "      <td>156.0</td>\n",
       "      <td>9350294311</td>\n",
       "      <td>477</td>\n",
       "    </tr>\n",
       "    <tr>\n",
       "      <th>3</th>\n",
       "      <td>Mossad</td>\n",
       "      <td>by Michael Bar-Zohar - Import</td>\n",
       "      <td>4.6</td>\n",
       "      <td>637.0</td>\n",
       "      <td>8184958455</td>\n",
       "      <td>340</td>\n",
       "    </tr>\n",
       "    <tr>\n",
       "      <th>4</th>\n",
       "      <td>My Story</td>\n",
       "      <td>by Kamala Das</td>\n",
       "      <td>4.5</td>\n",
       "      <td>42.0</td>\n",
       "      <td>8172238975</td>\n",
       "      <td>178</td>\n",
       "    </tr>\n",
       "  </tbody>\n",
       "</table>\n",
       "</div>"
      ],
      "text/plain": [
       "                                        amazon_title  \\\n",
       "0                                Tell Me your Dreams   \n",
       "1       The Boy in the Striped Pyjamas (Definitions)   \n",
       "2  Romancing the Balance Sheet: For Anyone Who Ow...   \n",
       "3                                             Mossad   \n",
       "4                                           My Story   \n",
       "\n",
       "                   amazon_author amazon_rating amazon_reviews count  \\\n",
       "0              by Sidney Sheldon           4.4                160.0   \n",
       "1                  by John Boyne           4.6                134.0   \n",
       "2                  by Anil Lamba           4.5                156.0   \n",
       "3  by Michael Bar-Zohar - Import           4.6                637.0   \n",
       "4                  by Kamala Das           4.5                 42.0   \n",
       "\n",
       "   amazon_isbn-10  amazon_price  \n",
       "0      8172234902           209  \n",
       "1      1862305277           350  \n",
       "2      9350294311           477  \n",
       "3      8184958455           340  \n",
       "4      8172238975           178  "
      ]
     },
     "execution_count": 2,
     "metadata": {},
     "output_type": "execute_result"
    }
   ],
   "source": [
    "amazon_df = pd.read_csv('Data/amazon.csv')\n",
    "flipkart_df = pd.read_csv('Data/flipkart.csv')\n",
    "# View the data for book listings on Amazon\n",
    "amazon_df.head()"
   ]
  },
  {
   "cell_type": "code",
   "execution_count": 3,
   "metadata": {},
   "outputs": [
    {
     "data": {
      "text/html": [
       "<div>\n",
       "<style scoped>\n",
       "    .dataframe tbody tr th:only-of-type {\n",
       "        vertical-align: middle;\n",
       "    }\n",
       "\n",
       "    .dataframe tbody tr th {\n",
       "        vertical-align: top;\n",
       "    }\n",
       "\n",
       "    .dataframe thead th {\n",
       "        text-align: right;\n",
       "    }\n",
       "</style>\n",
       "<table border=\"1\" class=\"dataframe\">\n",
       "  <thead>\n",
       "    <tr style=\"text-align: right;\">\n",
       "      <th></th>\n",
       "      <th>flipkart_author</th>\n",
       "      <th>flipkart_isbn10</th>\n",
       "      <th>flipkart_title</th>\n",
       "      <th>flipkart_ratings count</th>\n",
       "      <th>flipkart_price</th>\n",
       "      <th>flipkart_stars</th>\n",
       "    </tr>\n",
       "  </thead>\n",
       "  <tbody>\n",
       "    <tr>\n",
       "      <th>0</th>\n",
       "      <td>Sidney Sheldon</td>\n",
       "      <td>8172234902</td>\n",
       "      <td>TELL ME YOUR DREAMS</td>\n",
       "      <td>902</td>\n",
       "      <td>209</td>\n",
       "      <td>4.5</td>\n",
       "    </tr>\n",
       "    <tr>\n",
       "      <th>1</th>\n",
       "      <td></td>\n",
       "      <td>1862305277</td>\n",
       "      <td>The Boy in the Striped Pyjamas</td>\n",
       "      <td>83</td>\n",
       "      <td>372</td>\n",
       "      <td>4.5</td>\n",
       "    </tr>\n",
       "    <tr>\n",
       "      <th>2</th>\n",
       "      <td>Anil Lamba</td>\n",
       "      <td>9350294311</td>\n",
       "      <td>ROMANCING THE BALANCE SHEET</td>\n",
       "      <td>352</td>\n",
       "      <td>477</td>\n",
       "      <td>4.5</td>\n",
       "    </tr>\n",
       "    <tr>\n",
       "      <th>3</th>\n",
       "      <td>Bar-Zohar Michael</td>\n",
       "      <td>8184958455</td>\n",
       "      <td>Mossad</td>\n",
       "      <td>560</td>\n",
       "      <td>280</td>\n",
       "      <td>4.5</td>\n",
       "    </tr>\n",
       "    <tr>\n",
       "      <th>4</th>\n",
       "      <td>Kamala Das</td>\n",
       "      <td>8172238975</td>\n",
       "      <td>MY STORY</td>\n",
       "      <td>322</td>\n",
       "      <td>178</td>\n",
       "      <td>4.3</td>\n",
       "    </tr>\n",
       "  </tbody>\n",
       "</table>\n",
       "</div>"
      ],
      "text/plain": [
       "       flipkart_author  flipkart_isbn10                   flipkart_title  \\\n",
       "0       Sidney Sheldon       8172234902              TELL ME YOUR DREAMS   \n",
       "1                            1862305277   The Boy in the Striped Pyjamas   \n",
       "2           Anil Lamba       9350294311      ROMANCING THE BALANCE SHEET   \n",
       "3    Bar-Zohar Michael       8184958455                           Mossad   \n",
       "4           Kamala Das       8172238975                         MY STORY   \n",
       "\n",
       "  flipkart_ratings count  flipkart_price flipkart_stars  \n",
       "0                    902             209            4.5  \n",
       "1                     83             372            4.5  \n",
       "2                    352             477            4.5  \n",
       "3                    560             280            4.5  \n",
       "4                    322             178            4.3  "
      ]
     },
     "execution_count": 3,
     "metadata": {},
     "output_type": "execute_result"
    }
   ],
   "source": [
    "# do the same for Flipkart books sold\n",
    "flipkart_df.head()"
   ]
  },
  {
   "cell_type": "markdown",
   "metadata": {},
   "source": [
    "## Fixing Data Inconsistencies"
   ]
  },
  {
   "cell_type": "markdown",
   "metadata": {},
   "source": [
    "Several problems with the data have been identified, as it pertains to this analysis:\n",
    "\n",
    "1. Columns are named differently across DataFrames\n",
    "2. The columns are ordered differently across DataFrames\n",
    "3. Books with the same title have different casing across DataFrames\n",
    "4. Data type for ratings count is all floats on Amazon data, yet integers for the analogous column on the Flipkart Dataframe.\n",
    "5. ISBN columns offers seeminly useless information.\n",
    "6. Different kinds of NaN values exist in the author columns on both DataFrames (i.e. \"By NA\", \"Not Available\", or just leaving the cell empty).\n",
    "7. Prices are missing the proper decimal point."
   ]
  },
  {
   "cell_type": "markdown",
   "metadata": {},
   "source": [
    "### Normalizing Prices"
   ]
  },
  {
   "cell_type": "code",
   "execution_count": 4,
   "metadata": {},
   "outputs": [],
   "source": [
    "# Assumes that prices were listed originally in USD\n",
    "amzn_prices = amazon_df['amazon_price']\n",
    "amazon_df['amazon_price'] = [price/100 for price in amzn_prices]\n",
    "\n",
    "fp_prices = flipkart_df['flipkart_price']\n",
    "flipkart_df['flipkart_price'] = [price/100 for price in fp_prices]"
   ]
  },
  {
   "cell_type": "markdown",
   "metadata": {},
   "source": [
    "### Making Column Names Consistent"
   ]
  },
  {
   "cell_type": "code",
   "execution_count": 5,
   "metadata": {},
   "outputs": [],
   "source": [
    "def cutoff_prefix(df, prefix_length):\n",
    "    '''Removes the first prefix_length characters from each column in a DataFrame.'''\n",
    "    col_names = list(df.columns)\n",
    "    for i in range(len(col_names)):\n",
    "        # slicing off the first 7 letters\n",
    "        label = col_names[i]\n",
    "        col_names[i] = label[prefix_length:]\n",
    "    # swap out the names in the df for their shortened versions\n",
    "    new_df = df\n",
    "    new_df.columns = col_names\n",
    "    return new_df\n",
    "\n",
    "# Store new Dataframes whose column names have been shorted\n",
    "amzn_df = cutoff_prefix(amazon_df, 7)\n",
    "fp_df = cutoff_prefix(flipkart_df, 9)"
   ]
  },
  {
   "cell_type": "markdown",
   "metadata": {},
   "source": [
    "### Combining Data into One"
   ]
  },
  {
   "cell_type": "markdown",
   "metadata": {},
   "source": [
    "**The Ratings/Reviews Count Column**\n",
    "\n",
    "As I continue pre-processing data, there are a few things to keep in mind. For one thing, there is no contextual benefit in providing the number of reviews as a floating point number, as opposed to an integer. Therefore, I will convert all the floating point values in the \"reviews count\" column of the Amazon DataFrame to integer values."
   ]
  },
  {
   "cell_type": "code",
   "execution_count": 6,
   "metadata": {},
   "outputs": [
    {
     "name": "stdout",
     "output_type": "stream",
     "text": [
      "True\n",
      "False\n"
     ]
    }
   ],
   "source": [
    "# do the ratings/reviews columns have the same number of values to begin with?\n",
    "print(len(amzn_df['reviews count']) == len(fp_df['ratings count']))\n",
    "# let's make sure that both reviews count columns have the same number of non-Nan values\n",
    "print(len(amzn_df['reviews count'].dropna().values) == len(fp_df['ratings count'].dropna().values))"
   ]
  },
  {
   "cell_type": "code",
   "execution_count": 7,
   "metadata": {},
   "outputs": [
    {
     "name": "stdout",
     "output_type": "stream",
     "text": [
      "1378\n",
      "1382\n"
     ]
    }
   ],
   "source": [
    "# alright, so which df has more values?\n",
    "print(len(amzn_df['reviews count'].dropna().values))\n",
    "print(len(fp_df['ratings count'].dropna().values))"
   ]
  },
  {
   "cell_type": "markdown",
   "metadata": {},
   "source": [
    "Okay, so as a heads-up I will need to fill in some NaN values in the Amazon Dataframe!\n",
    "Here, I decided to fill in using '0.0'."
   ]
  },
  {
   "cell_type": "code",
   "execution_count": 8,
   "metadata": {},
   "outputs": [],
   "source": [
    "amzn_df['reviews count'] = amzn_df['reviews count'].fillna('0.0')"
   ]
  },
  {
   "cell_type": "code",
   "execution_count": 9,
   "metadata": {},
   "outputs": [],
   "source": [
    "def remove_commas_from_strings(df, col):\n",
    "    '''Int conversion for review counts.'''\n",
    "    counts = list()\n",
    "    for count in df[col]:\n",
    "        # removing commas, filling in empty strings\n",
    "        if ',' in count:\n",
    "            count_ls = [char for char in count if char != ',']\n",
    "            count = ''.join(count_ls)\n",
    "        elif count == ' ':\n",
    "            count = '0.0'\n",
    "        counts.append(float(count))                             \n",
    "    # replacing the column in the DataFrame\n",
    "    df[col] = counts\n",
    "    return  # signalling end of function\n",
    "  \n",
    "remove_commas_from_strings(amzn_df, 'reviews count')\n",
    "remove_commas_from_strings(fp_df, 'ratings count')\n",
    "remove_commas_from_strings(fp_df, 'stars')"
   ]
  },
  {
   "cell_type": "markdown",
   "metadata": {},
   "source": [
    "Cool! That was way more complicated than expected. "
   ]
  },
  {
   "cell_type": "markdown",
   "metadata": {},
   "source": [
    "**Handling NaN Values + Mismatching Column Naming**\n",
    "\n",
    "For future reference, how about we cross-inspect of all the columns from both DataFrames, so we can:\n",
    "\n",
    "1. Take note of where differences in column-naming may be an issue,\n",
    "2. Take note of where Nan values may be an issue,\n",
    "3. Decide how best to resolve that issues in the context of that column!"
   ]
  },
  {
   "cell_type": "code",
   "execution_count": 10,
   "metadata": {},
   "outputs": [
    {
     "data": {
      "text/plain": [
       "Index(['title', 'author', 'rating', 'reviews count', 'isbn-10', 'price'], dtype='object')"
      ]
     },
     "execution_count": 10,
     "metadata": {},
     "output_type": "execute_result"
    }
   ],
   "source": [
    "amzn_df.columns"
   ]
  },
  {
   "cell_type": "code",
   "execution_count": 11,
   "metadata": {},
   "outputs": [
    {
     "data": {
      "text/plain": [
       "Index(['author', 'isbn10', 'title', 'ratings count', 'price', 'stars'], dtype='object')"
      ]
     },
     "execution_count": 11,
     "metadata": {},
     "output_type": "execute_result"
    }
   ],
   "source": [
    "fp_df.columns"
   ]
  },
  {
   "cell_type": "markdown",
   "metadata": {},
   "source": [
    "Interesting! It looks like I need to resolve a naming conflict in Flipkart's DataFrame, for the following columns:\n",
    "\n",
    "- 'stars'\n",
    "- 'ratings count'\n",
    "\n",
    "I chose to do this by simply renaming these columns to their Amazonian counterparts. The ISBN columns were simply dropped from both DataFrames, because they will not be used in the analysis to come."
   ]
  },
  {
   "cell_type": "code",
   "execution_count": 12,
   "metadata": {},
   "outputs": [],
   "source": [
    "# Renaming Flipkart columns mismatched names\n",
    "fp_df = fp_df.rename(columns={\n",
    "    'stars': 'rating',\n",
    "    'ratings count': 'reviews count'\n",
    "})\n",
    "# Removing the ISBN columns of both DataFrames\n",
    "del amzn_df['isbn-10']\n",
    "del fp_df['isbn10']"
   ]
  },
  {
   "cell_type": "markdown",
   "metadata": {},
   "source": [
    "To make the for-loop in the next cell functional, I must first resolve the naming conflict between 'reviews count' and 'ratings count', and likewise for 'review.'"
   ]
  },
  {
   "cell_type": "code",
   "execution_count": 13,
   "metadata": {},
   "outputs": [
    {
     "name": "stdout",
     "output_type": "stream",
     "text": [
      "For 'title', Amazonian data shows 1382 values, and Flipkart data shows 1382 values.\n",
      "For 'author', Amazonian data shows 1382 values, and Flipkart data shows 1382 values.\n",
      "For 'rating', Amazonian data shows 1378 values, and Flipkart data shows 1382 values.\n",
      "For 'price', Amazonian data shows 1382 values, and Flipkart data shows 1382 values.\n"
     ]
    }
   ],
   "source": [
    "# I assume that with NaN values included, both DataFrames are already the same length.\n",
    "for col in amzn_df.columns:\n",
    "    # skipping rating and reviews, since we already did that\n",
    "    if col != 'reviews count':\n",
    "        num_valid_rows_am = len(amzn_df[col].dropna().values)\n",
    "        num_valid_rows_fp = len(fp_df[col].dropna().values)\n",
    "        print(f\"For '{col}', Amazonian data shows {num_valid_rows_am} values, and Flipkart data shows {num_valid_rows_fp} values.\")"
   ]
  },
  {
   "cell_type": "markdown",
   "metadata": {},
   "source": [
    "We can also make sure that the columns in both DataFrames are labeled the same way, to save us any headache in the future in case we need to be compared to one another."
   ]
  },
  {
   "cell_type": "code",
   "execution_count": 14,
   "metadata": {},
   "outputs": [],
   "source": [
    "# reorder columns in df2 to match df1\n",
    "fp_df = fp_df[amzn_df.columns]"
   ]
  },
  {
   "cell_type": "markdown",
   "metadata": {},
   "source": [
    "It looks like we almost match up... except Amazon is lacking 4 non-NaN values in its 'rating' column. This is reasonable, because presumably these were the same rows in which the values for 'reviews count' were also missing.\n",
    "\n",
    "As before I will in those NaN values with '0.0', with the rationale being:\n",
    "1. That is what they most likely were, if they were missing during the stage of actually collecting the data;\n",
    "2. Ratings for books tend to depend on the book's quality; so it would not make sense to use another technique such as GMM for instance, because the value a book gets for its rating should arguably treated as an individual value. That is to say, it should not be confined to the distribution of rating values for this overall dataset."
   ]
  },
  {
   "cell_type": "code",
   "execution_count": 15,
   "metadata": {},
   "outputs": [],
   "source": [
    "amzn_df['rating'] = amzn_df['rating'].fillna('0.0')\n",
    "fp_df['rating'] = fp_df['rating'].fillna('0.0')"
   ]
  },
  {
   "cell_type": "markdown",
   "metadata": {},
   "source": [
    "It also makes sense make sure all the values in the 'rating' and 'reviews count' columns are numerical!"
   ]
  },
  {
   "cell_type": "code",
   "execution_count": 16,
   "metadata": {},
   "outputs": [],
   "source": [
    "def convert_str_to_float(df, col):\n",
    "    '''Modifies the column of the df so that all its NaN strings become floating point numbers.'''\n",
    "    # special case, because Flipkart's df contains empty strings\n",
    "    if df[col].all() == fp_df[col].all() and col == 'rating':\n",
    "        df_values = list()\n",
    "        for i in range(len(df.iloc[:])):\n",
    "            value = df[col].iloc[i][:4]\n",
    "            # we found an empty string\n",
    "            if value == ' ':\n",
    "                vaue = 0.0\n",
    "            df_values.append(value)\n",
    "    # Case for Amazon's Ratings, which are suffixed by 'out of 5 stars'\n",
    "    elif col == 'rating':\n",
    "         df_values = [float(value[:3]) for value in df[col].iloc[:]]\n",
    "    # Case for Review Count\n",
    "    else:\n",
    "        df_values = [float(value) for value in df[col].iloc[:]]\n",
    "    # copy the new values back into the old df\n",
    "    df[col] = df_values\n",
    "\n",
    "\n",
    "# Changing Amazon Ratings from Strings to Floating Point\n",
    "convert_str_to_float(amzn_df, 'rating')"
   ]
  },
  {
   "cell_type": "markdown",
   "metadata": {},
   "source": [
    "**Adding a 'Company' Column**\n",
    "\n",
    "In preparation of combining the two DataFrames, I will also add a 'Company' column to both, so that we will able to tell which row came from which company once they are all together!"
   ]
  },
  {
   "cell_type": "code",
   "execution_count": 17,
   "metadata": {},
   "outputs": [],
   "source": [
    "def add_company_col(df, company_name):\n",
    "    '''Add a column to specify which company through which a book was listed on the Internet.'''\n",
    "    df['Is_Amazon'] = [company_name for i in range(len(df))]\n",
    "    \n",
    "add_company_col(amzn_df, 1.0)  # 1 is affirmative\n",
    "add_company_col(fp_df, 0.0)  # 0 is negative"
   ]
  },
  {
   "cell_type": "markdown",
   "metadata": {},
   "source": [
    "**Stacking DataFrames on Top of Each Other**"
   ]
  },
  {
   "cell_type": "code",
   "execution_count": 18,
   "metadata": {},
   "outputs": [],
   "source": [
    "def collect_rows(df1, df2, is_stacked):\n",
    "    \"\"\"Make a new DataFrames in which all rows from df1 and df2 are combined into one.\n",
    "    \n",
    "       Parameters:\n",
    "       df1(DataFrame): the DataFrame which the return value will be initialized from, by copying.\n",
    "       df2(DataFrame): the DataFrame whose rows will be added to the copy.\n",
    "       is_stacked(bool): specificies whether all the rows of df2 will go beneath all the rows in df1, or if False\n",
    "                         then the return df will alternate between rows of df1 and df2 in its ordering, i.e. each\n",
    "                         row from one company's DataFrame will be followed by the row in the other DataFrame for the\n",
    "                         same book.\n",
    "                         \n",
    "      Returns: DataFrame\n",
    "    \n",
    "    \"\"\"\n",
    "    if is_stacked is True:\n",
    "         # create an empty DataFrame to hold all the eventual data\n",
    "        merged = pd.DataFrame(data=None, index=list(range(len(df1) + len(df2))), columns=df1.columns)\n",
    "        # add all rows in df2 below all rows df1, in order by corresponding columns\n",
    "        for col in df1.columns:\n",
    "            # form a new column with both sets of data, one after the other\n",
    "            new_col = df1[col].append(df2[col], ignore_index=True)\n",
    "            # add it to the new df\n",
    "            merged[col] = (new_col)\n",
    "    else:\n",
    "        merged = pd.DataFrame(data=None, index=list(range(len(df1) + len(df2))), columns=df1.columns)\n",
    "        # iterate through all rows of both df's\n",
    "        for i in range(len(df1)):\n",
    "            row1, row2 = df1.iloc[i], df2.iloc[i]\n",
    "            # add in the rows\n",
    "            merged = merged.append(row1, ignore_index=True)\n",
    "            merged = merged.append(row2, ignore_index=True)\n",
    "        # Not completely clear on why the above causes top half of merged to be NaN, for now I'll just cut it out\n",
    "        merged = merged.iloc[len(merged) // 2:]\n",
    "    return merged\n",
    "\n",
    "all_books_stacked = collect_rows(amzn_df, fp_df, True)\n",
    "all_books_mixed = collect_rows(amzn_df, fp_df, False)"
   ]
  },
  {
   "cell_type": "markdown",
   "metadata": {},
   "source": [
    "# Exploratory Data Analysis"
   ]
  },
  {
   "cell_type": "markdown",
   "metadata": {},
   "source": [
    "## How Similar Are the Distributions of Price, Rating, and Review Counts?\n",
    "These look like the most promising features to use in training our classifier. Are they noticeably different between the two companies?\n",
    "\n",
    "#### Which features should be used to train the model?\n",
    "While on the topic, the \"title\" and \"author\" columns will not be used to train the classifier. In the context of an application, where a user would enter in the price their desired price for a book, the title they provide will not actually help the classifer in its decision. Rather, it would merely serve to let the machine know amongst which platforms (or labels for the target class) it can choose amongst."
   ]
  },
  {
   "cell_type": "markdown",
   "metadata": {},
   "source": [
    "## Distribution of Prices"
   ]
  },
  {
   "cell_type": "markdown",
   "metadata": {},
   "source": [
    "Both DataFrames have the same 1,382 books listed. What is the range of prices on both sites?"
   ]
  },
  {
   "cell_type": "code",
   "execution_count": 19,
   "metadata": {},
   "outputs": [
    {
     "name": "stdout",
     "output_type": "stream",
     "text": [
      "Price range on Amazon: $8.94 USD\n",
      "Price range on Flipkart: $51.71 USD\n"
     ]
    }
   ],
   "source": [
    "def determine_range(df, col):\n",
    "    return df[col].max() - df[col].min()\n",
    "\n",
    "amzn_price_range = determine_range(amzn_df, 'price')\n",
    "fp_price_range = determine_range(fp_df, 'price')\n",
    "print(f'Price range on Amazon: ${amzn_price_range} USD')\n",
    "print(f'Price range on Flipkart: ${fp_price_range} USD')"
   ]
  },
  {
   "cell_type": "code",
   "execution_count": 20,
   "metadata": {},
   "outputs": [
    {
     "data": {
      "image/png": "[encoded data removed]",
      "text/plain": [
       "<Figure size 432x288 with 1 Axes>"
      ]
     },
     "metadata": {
      "needs_background": "light"
     },
     "output_type": "display_data"
    }
   ],
   "source": [
    "sns.distplot(amzn_df['price'], hist=True, bins=10, kde=True, label='Amazon Prices')\n",
    "sns.distplot(fp_df['price'], hist=True, bins=10, kde=True, label='Flipkart Prices')\n",
    "plt.legend()\n",
    "plt.title('Distribution of Book Prices on Amazon and Flipkart')\n",
    "plt.show()"
   ]
  },
  {
   "cell_type": "markdown",
   "metadata": {},
   "source": [
    "### Interesting!\n",
    "It appears on one hand, the prices of books on Amazon appears to have much less variance than on Flipkart."
   ]
  },
  {
   "cell_type": "markdown",
   "metadata": {},
   "source": [
    "## Distribution of Ratings\n",
    "First of all, let's make sure we know the range of ratings, rather than assuming it's 0-5 stars."
   ]
  },
  {
   "cell_type": "code",
   "execution_count": 21,
   "metadata": {},
   "outputs": [
    {
     "name": "stdout",
     "output_type": "stream",
     "text": [
      "Highest book rating on Amazon: 5.0\n",
      "Lowest book rating on Amazon: 0.0\n",
      "Maximum book rating on Flipkart: 5.0\n",
      "Maximum book rating on Flipkart: 0.0\n"
     ]
    }
   ],
   "source": [
    "print(f\"Highest book rating on Amazon: {amzn_df['rating'].max()}\")\n",
    "print(f\"Lowest book rating on Amazon: {amzn_df['rating'].min()}\")\n",
    "print(f\"Maximum book rating on Flipkart: {fp_df['rating'].max()}\")\n",
    "print(f\"Maximum book rating on Flipkart: {fp_df['rating'].min()}\")"
   ]
  },
  {
   "cell_type": "code",
   "execution_count": 22,
   "metadata": {},
   "outputs": [
    {
     "data": {
      "image/png": "[encoded data removed]",
      "text/plain": [
       "<Figure size 432x288 with 1 Axes>"
      ]
     },
     "metadata": {
      "needs_background": "light"
     },
     "output_type": "display_data"
    }
   ],
   "source": [
    "sns.distplot(amzn_df['rating'] , hist=True, bins=5, kde=True, label='Amazon')\n",
    "sns.distplot(fp_df['rating'], hist=True, bins=5, kde=True, label='Flipkart')\n",
    "plt.legend()\n",
    "plt.title('Distribution of Book Ratings on Amazon and Flipkart')\n",
    "plt.show()"
   ]
  },
  {
   "cell_type": "markdown",
   "metadata": {},
   "source": [
    "Flipkart book ratings appears to have a higher mean their Amazonian counterparts. Like prices, Flipkart exihibits more variance than Amazon. "
   ]
  },
  {
   "cell_type": "markdown",
   "metadata": {},
   "source": [
    "## Distribution of Review Counts"
   ]
  },
  {
   "cell_type": "code",
   "execution_count": 23,
   "metadata": {},
   "outputs": [
    {
     "name": "stdout",
     "output_type": "stream",
     "text": [
      "Range of review counts on Amazon: 6566.0\n",
      "Range of review counts on Flipkart: 48324.0\n"
     ]
    }
   ],
   "source": [
    "def determine_range(df, col):\n",
    "    return df[col].max() - df[col].min()\n",
    "\n",
    "amzn_rcount_range = determine_range(amzn_df, 'reviews count')\n",
    "fp_rcount_range = determine_range(fp_df, 'reviews count')\n",
    "print(f'Range of review counts on Amazon: {amzn_rcount_range}')\n",
    "print(f'Range of review counts on Flipkart: {fp_rcount_range}')"
   ]
  },
  {
   "cell_type": "code",
   "execution_count": 24,
   "metadata": {},
   "outputs": [
    {
     "data": {
      "image/png": "[encoded data removed]",
      "text/plain": [
       "<Figure size 432x288 with 1 Axes>"
      ]
     },
     "metadata": {
      "needs_background": "light"
     },
     "output_type": "display_data"
    }
   ],
   "source": [
    "sns.distplot(amzn_df['reviews count'] , hist=True, bins=5, kde=True, label='Amazon')\n",
    "sns.distplot(fp_df['reviews count'], hist=True, bins=5, kde=True, label='Flipkart')\n",
    "plt.legend()\n",
    "plt.title('Distribution of Review Counts on Amazon and Flipkart')\n",
    "plt.show()"
   ]
  },
  {
   "cell_type": "markdown",
   "metadata": {},
   "source": [
    "The pattern continues! Once again, Amazon shows off the stability of its platform, showing a much less variance than Flipkart does for the same statistic, regardless of the fact we are comparing the same books on both platforms."
   ]
  },
  {
   "cell_type": "markdown",
   "metadata": {},
   "source": [
    "## Correlation Heatmap\n",
    "How much correlation do price, rating, and review count have with our target, the company class?\n",
    "How much multicolinearity do they have with each other?"
   ]
  },
  {
   "cell_type": "code",
   "execution_count": 25,
   "metadata": {},
   "outputs": [
    {
     "data": {
      "image/png": "[encoded data removed]",
      "text/plain": [
       "<Figure size 648x648 with 2 Axes>"
      ]
     },
     "metadata": {},
     "output_type": "display_data"
    }
   ],
   "source": [
    "def make_heatmap(df, map_title):\n",
    "    \"\"\"Plots the diagonal correlation matrix of a dataset using Seaborn.\n",
    "       Credit to the Seaborn Documentation for inspiring this cell:\n",
    "       https://seaborn.pydata.org/examples/many_pairwise_correlations.html\n",
    "       \n",
    "       Parameters:\n",
    "       df(pandas.DataFrame): encapsulates the dataset being used to make heatmap.\n",
    "       map_title(str): the title for the heatmap\n",
    "    \n",
    "    \"\"\"\n",
    "    sns.set(style=\"white\")\n",
    "    # Compute the correlation matrix\n",
    "    corr = df.corr()\n",
    "    # Generate a mask for the upper triangle\n",
    "    mask = np.triu(np.ones_like(corr, dtype=np.bool))\n",
    "    # Set up the matplotlib figure\n",
    "    f, ax = plt.subplots(figsize=(9, 9))\n",
    "    # Generate a custom diverging colormap\n",
    "    cmap = sns.diverging_palette(220, 10, as_cmap=True)\n",
    "    # Draw the heatmap with the mask and correct aspect ratio\n",
    "    sns.heatmap(corr, mask=mask, cmap=cmap, vmax=.3, center=0,\n",
    "                square=True, linewidths=.5, cbar_kws={\"shrink\": .5}, annot=True)\n",
    "    plt.title(map_title)\n",
    "    plt.show()\n",
    "    \n",
    "make_heatmap(all_books_mixed, 'Correlation Between Predictors of Online Bookseller')"
   ]
  },
  {
   "cell_type": "markdown",
   "metadata": {},
   "source": [
    "This highlights an important notion: the correlation between 'reviews count' and 'rating' suggests that due to greater public satisfaction, the books that have a high number of reviews also correlate to having a higher rating. \n",
    "\n",
    "\n",
    "Before going any further it would be useful to normalize the dataset so that all the values are on the same scale, whereas currently - the values for 'reviews count' tend to be much higher than the other numerical columns."
   ]
  },
  {
   "cell_type": "markdown",
   "metadata": {},
   "source": [
    "# Preparing the Data for ML"
   ]
  },
  {
   "cell_type": "markdown",
   "metadata": {},
   "source": [
    "## Splitting into Training and Testing"
   ]
  },
  {
   "cell_type": "code",
   "execution_count": 26,
   "metadata": {},
   "outputs": [],
   "source": [
    "def split_scale_data(df, scaler, features, target_var):\n",
    "    \"\"\"Scales the specified features of the dataset, using the scaler. \n",
    "       Separate the data into inputs and outputs, as well as training and testing data.\n",
    "    \n",
    "    \"\"\"\n",
    "    # split the data\n",
    "    X = df[features]\n",
    "    y = df[target_var]\n",
    "    X_train, X_test, y_train, y_test = train_test_split(X, y, test_size=0.25, random_state=0)\n",
    "    return X_train, X_test, y_train, y_test\n",
    "\n",
    "scaler = StandardScaler()\n",
    "features = ['price', 'reviews count', 'rating']\n",
    "target = 'Is_Amazon'\n",
    "X_train, X_test, y_train, y_test = split_scale_data(all_books_mixed, scaler, \n",
    "                                                    features, target)"
   ]
  },
  {
   "cell_type": "markdown",
   "metadata": {},
   "source": [
    "## Applying Standard Scaling"
   ]
  },
  {
   "cell_type": "code",
   "execution_count": 27,
   "metadata": {},
   "outputs": [],
   "source": [
    "X_train_scaled = scaler.fit_transform(X_train)\n",
    "X_test_scaled = scaler.transform(X_test)"
   ]
  },
  {
   "cell_type": "markdown",
   "metadata": {},
   "source": [
    "## PCA - do we need it?"
   ]
  },
  {
   "cell_type": "markdown",
   "metadata": {},
   "source": [
    "### Reducing to 1 Principal Component"
   ]
  },
  {
   "cell_type": "code",
   "execution_count": 28,
   "metadata": {},
   "outputs": [
    {
     "name": "stdout",
     "output_type": "stream",
     "text": [
      "Variance Retained using PCA on Scaled Training Data, with 1 Components\n",
      "[1.17782776]\n",
      "[0.39241986]\n",
      "[0.39241986]\n",
      "---------------------------------------\n",
      "Variance Retained using PCA on Un-scaled Training Data, with 1 Components\n",
      "[7494118.76900406]\n",
      "[0.99999947]\n",
      "[0.99999947]\n",
      "---------------------------------------\n",
      "Variance Retained using PCA on Scaled Training Data, with 2 Components\n",
      "[1.17782776 0.94799806]\n",
      "[0.39241986 0.31584692]\n",
      "[0.39241986 0.70826678]\n",
      "---------------------------------------\n",
      "Variance Retained using PCA on Un-scaled Training Data, with 2 Components\n",
      "[7.49411877e+06 3.68557108e+00]\n",
      "[9.99999472e-01 4.91794865e-07]\n",
      "[0.99999947 0.99999996]\n",
      "---------------------------------------\n"
     ]
    }
   ],
   "source": [
    "def apply_pca(data, num_components, is_scaled):\n",
    "    '''Get a certain number of principal components for a dataset. Prints the explained variance ratios.'''\n",
    "    # Apply PCA\n",
    "    pca = PCA(n_components=num_components)\n",
    "    data_reduced = pca.fit_transform(data)\n",
    "    # determine if to print 'Scaled' or not\n",
    "    if is_scaled is True:\n",
    "        scale = 'Scaled'\n",
    "    else:\n",
    "        scale = 'Un-scaled'\n",
    "    # Display resulting explained variance\n",
    "    print(f'Variance Retained using PCA on {scale} Training Data, with {num_components} Components')\n",
    "    print(pca.explained_variance_) \n",
    "    print(pca.explained_variance_ratio_)\n",
    "    ratio = pca.explained_variance_ratio_.cumsum()\n",
    "    print(ratio)\n",
    "    print('---------------------------------------')\n",
    "    \n",
    "    return data_reduced\n",
    "    \n",
    "apply_pca(X_train_scaled, 1, True)\n",
    "apply_pca(X_train, 1, False)\n",
    "apply_pca(X_train_scaled, 2, True)\n",
    "X_train_reduced = apply_pca(X_train, 2, False)"
   ]
  },
  {
   "cell_type": "markdown",
   "metadata": {},
   "source": [
    "It looks as though using PCA on unscaled data with 2 principal components gave us the best explained variance. However, overall I think it is not worth using PCA in this dataset, because the number of features is already fairly small. As well, using this form of reduced data will lead to other problems in throwing off the bias of the classifier model, since the scales are thrown off (as you can see below).\n",
    "\n",
    "Most likely, the spread of values in the reduced version of unscaled data is making PCA *think* that it has retained a lot of the variance. However, that should not offer major benefits because as previously seen in the heatmap above, there's not a lot of correlation in this dataset to begin with."
   ]
  },
  {
   "cell_type": "code",
   "execution_count": 29,
   "metadata": {},
   "outputs": [
    {
     "name": "stdout",
     "output_type": "stream",
     "text": [
      "[[-9.53797753e+02  4.64142786e+00]\n",
      " [-7.65797504e+02  1.41012815e+00]\n",
      " [-1.01179753e+03  1.66503811e+00]\n",
      " ...\n",
      " [-4.73797407e+02  1.58934641e-01]\n",
      " [-6.71797407e+02  1.43571380e-01]\n",
      " [ 1.60620274e+03 -1.68887403e+00]]\n"
     ]
    }
   ],
   "source": [
    "print(X_train_reduced)"
   ]
  },
  {
   "cell_type": "markdown",
   "metadata": {},
   "source": [
    "# Implementation of Different Classifer Models"
   ]
  },
  {
   "cell_type": "markdown",
   "metadata": {},
   "source": [
    "## Support Vector Machine"
   ]
  },
  {
   "cell_type": "markdown",
   "metadata": {},
   "source": [
    "### Grid Search"
   ]
  },
  {
   "cell_type": "code",
   "execution_count": 40,
   "metadata": {},
   "outputs": [],
   "source": [
    "def svc_param_selection(X, y, nfolds, kernel_type):\n",
    "    \"\"\"Return the optimal hyperparameters to use on a Support Vector Machine classifier.\n",
    "       Credit to Milad Toutounchian for the following implementation, found at:\n",
    "       https://github.com/Make-School-Courses/DS-2.1-Machine-Learning/blob/master/Notebooks/simple_Model_Evaluation.ipynb\n",
    "       \n",
    "       Parameters:\n",
    "       X(array-like): features of the dataset that are input to the model to make its classification\n",
    "       y(array-like): feature of the dataset being targeted for classification\n",
    "       nfolds(int): specificies the number of divisions to make in the data, as a cross validation strategy\n",
    "       kernel_type(str): the type of kernel for the SVC we are optimizing\n",
    "       \n",
    "       Returns: dict: param settings that gave the best result\n",
    "    \"\"\"\n",
    "    Cs = [0.001, 0.01, 0.1, 1, 10]\n",
    "    gammas = [0.001, 0.01, 0.1, 1]\n",
    "    # only use gammas if using for Radial Basis Function\n",
    "    if kernel_type == 'rbf':\n",
    "        param_grid = {'C': Cs, 'gamma' : gammas}\n",
    "    else:\n",
    "        param_grid = {'C': Cs}\n",
    "    grid_search = GridSearchCV(SVC(kernel=kernel_type), param_grid, cv=nfolds, n_jobs=3, scoring='accuracy')\n",
    "    grid_search.fit(X, y)\n",
    "    return grid_search.best_params_\n",
    "\n",
    "\n",
    "# collecting all the best hyperparams for SVM in one\n",
    "kernels = ['linear', 'poly', 'rbf']\n",
    "kernel_params = {}\n",
    "X = all_books_mixed[features]\n",
    "X_scaled = scaler.transform(X)\n",
    "y = all_books_mixed['Is_Amazon']\n",
    "for kernel in kernels:\n",
    "    kernel_params[kernel] = svc_param_selection(X_scaled, y, 5, kernel)"
   ]
  },
  {
   "cell_type": "code",
   "execution_count": 41,
   "metadata": {},
   "outputs": [
    {
     "data": {
      "text/plain": [
       "{'linear': {'C': 10}, 'poly': {'C': 10}, 'rbf': {'C': 10, 'gamma': 1}}"
      ]
     },
     "execution_count": 41,
     "metadata": {},
     "output_type": "execute_result"
    }
   ],
   "source": [
    "kernel_params"
   ]
  },
  {
   "cell_type": "markdown",
   "metadata": {},
   "source": [
    "### Which Kernel Performs the Best? (Confusion Matrix)"
   ]
  },
  {
   "cell_type": "code",
   "execution_count": 53,
   "metadata": {},
   "outputs": [
    {
     "name": "stdout",
     "output_type": "stream",
     "text": [
      "Performance of linear kernel\n",
      "CONFUSION MATRIX METRICS\n",
      "Accuracy: 58.47%\n",
      "Precision: 56.34%\n",
      "Recall: 91.14%\n",
      "F1-Score: 69.6342%\n",
      "\n",
      "\n",
      "Performance of poly kernel\n",
      "CONFUSION MATRIX METRICS\n",
      "Accuracy: 60.92999999999999%\n",
      "Precision: 57.99999999999999%\n",
      "Recall: 91.41%\n",
      "F1-Score: 70.9695%\n",
      "\n",
      "\n",
      "Performance of rbf kernel\n",
      "CONFUSION MATRIX METRICS\n",
      "Accuracy: 71.35000000000001%\n",
      "Precision: 72.83%\n",
      "Recall: 72.02%\n",
      "F1-Score: 72.4227%\n",
      "\n",
      "\n"
     ]
    }
   ],
   "source": [
    "def calculate_rate(numerator, denominator):\n",
    "        '''Return the percent value for a statistical formula.'''\n",
    "        return round(numerator/denominator, 4) * 100\n",
    "\n",
    "def print_confusion_metrics(cm):\n",
    "    '''Prints metrics of the model, derived from the confusion matrix.'''\n",
    "    TN, FP, FN, TP = cm.ravel()\n",
    "    # calculate the metrics\n",
    "    accuracy, precision, recall = (\n",
    "        calculate_rate(TP + TN, TP + TN + FP + FN),\n",
    "        calculate_rate(TP, TP + FP),\n",
    "        calculate_rate(TP, TP + FN)\n",
    "    )\n",
    "    f1 = round((2 * precision * recall)/(float(precision + recall)), 4)\n",
    "    # display the results\n",
    "    print('CONFUSION MATRIX METRICS')\n",
    "    print(f'Accuracy: {accuracy}%')\n",
    "    print(f'Precision: {precision}%')\n",
    "    print(f'Recall: {recall}%')\n",
    "    print(f'F1-Score: {f1}%')\n",
    "   \n",
    "\n",
    "def run_svm_and_evaluate(kernel_type, X_train, y_train, X_test, y_test):\n",
    "    \"\"\"Evaluate the Support Vector Machine performance on each kernel, with optimized hyperparams \n",
    "       and same data.\n",
    "       \n",
    "       Returns: None\n",
    "       \n",
    "    \"\"\"\n",
    "    # initialize variables to defaults in sklearn, then switch to optimized values\n",
    "    gamma_value = 'scale' \n",
    "    if kernel_type == 'rbf':\n",
    "        gamma_value = kernel_params[kernel_type]['gamma']\n",
    "    C_value =  kernel_params[kernel_type]['C']\n",
    "     # instantiate the Support Vector Machine, with the optimized hyperparams\n",
    "    svm = SVC(kernel=kernel_type, C=C_value, gamma=gamma_value)\n",
    "    # train the model, then test it!\n",
    "    svm.fit(X_train, y_train)\n",
    "    y_pred = svm.predict(X_test)\n",
    "    # produce results using the confusion matrix\n",
    "    cm = confusion_matrix(y_test, y_pred)\n",
    "    print_confusion_metrics(cm)\n",
    "    # return the model\n",
    "    return svm\n",
    "\n",
    "models = list()\n",
    "for kernel in kernels:\n",
    "    print(f'Performance of {kernel} kernel')\n",
    "    model = run_svm_and_evaluate(kernel, X_train_scaled, y_train, X_test_scaled, y_test)\n",
    "    models.append(model)\n",
    "    print('\\n')"
   ]
  },
  {
   "cell_type": "markdown",
   "metadata": {},
   "source": [
    "**And the Winner is: the Radial Basis Function!**\n",
    "\n",
    "The results suggest that the RBF kernel may be the best kernel to use for the Support Vector Machine. As shown in the printouts above, the model achieved its highest scores for accuracy and precision using the radial basis function, yet it performed worse on its recall score, as compared to when the other two kernels were used. \n",
    "\n",
    "However, the F1-score is the best measure to judge upon in this scenario, because it factors in both precision and recall. The F1-score for the RBF kernel outperformed those obtained using the linear and polynomial kernels, which suggests that overall, the model performance is best when using the RBF kernel. This suggests that the drop in the recall score seen by using the RBF kernel is outweighed by the gains in precision.\n",
    "\n",
    "In our use case, it makes sense to optimize for a \"happy medium\" between having both high scores for precision and recall rather than just recall, because deciding where to buy books is a relatively low-risk classification problem, so the false negatives are not to be a major issue."
   ]
  },
  {
   "cell_type": "markdown",
   "metadata": {},
   "source": [
    "### Visualization"
   ]
  },
  {
   "cell_type": "code",
   "execution_count": null,
   "metadata": {},
   "outputs": [],
   "source": []
  },
  {
   "cell_type": "code",
   "execution_count": null,
   "metadata": {},
   "outputs": [],
   "source": []
  },
  {
   "cell_type": "markdown",
   "metadata": {},
   "source": [
    "## Logistic Regression"
   ]
  },
  {
   "cell_type": "markdown",
   "metadata": {},
   "source": [
    "## K-Nearest Neighbors"
   ]
  },
  {
   "cell_type": "markdown",
   "metadata": {},
   "source": [
    "## Which Model is the Best? (Cross Validation)"
   ]
  },
  {
   "cell_type": "markdown",
   "metadata": {},
   "source": [
    "# Final Conclusions"
   ]
  },
  {
   "cell_type": "code",
   "execution_count": null,
   "metadata": {},
   "outputs": [],
   "source": []
  }
 ],
 "metadata": {
  "kernelspec": {
   "display_name": "Python 3",
   "language": "python",
   "name": "python3"
  },
  "language_info": {
   "codemirror_mode": {
    "name": "ipython",
    "version": 3
   },
   "file_extension": ".py",
   "mimetype": "text/x-python",
   "name": "python",
   "nbconvert_exporter": "python",
   "pygments_lexer": "ipython3",
   "version": "3.7.6"
  }
 },
 "nbformat": 4,
 "nbformat_minor": 4
}
